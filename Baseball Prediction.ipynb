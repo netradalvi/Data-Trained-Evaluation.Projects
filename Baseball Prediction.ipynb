{
 "cells": [
  {
   "cell_type": "code",
   "execution_count": 228,
   "id": "30a7abd7",
   "metadata": {},
   "outputs": [],
   "source": [
    "import numpy as np\n",
    "import pandas as pd\n",
    "import matplotlib.pyplot as plt\n",
    "import seaborn as sns\n",
    "import warnings\n",
    "warnings.simplefilter('ignore')"
   ]
  },
  {
   "cell_type": "markdown",
   "id": "60769ca0",
   "metadata": {},
   "source": [
    "# Problem Statement\n",
    "\n",
    "R – Runs scored: number of times a player crosses home plate\n",
    "\n",
    "AB – At bat: plate appearances, not including bases on balls, being hit by pitch, sacrifices, interference, or obstruction\n",
    "\n",
    "H – Hit: reaching base because of a batted, fair ball without error by the defense\n",
    "\n",
    "2B – Double: hits on which the batter reaches second base safely without the contribution of a fielding error\n",
    "\n",
    "3B – Triple: hits on which the batter reaches third base safely without the contribution of a fielding error\n",
    "\n",
    "HR – Home runs: hits on which the batter successfully touched all four bases, without the contribution of a fielding error\n",
    "\n",
    "BB – Base on balls (also called a \"walk\"): hitter not swinging at four pitches called out of the strike zone and awarded first base.\n",
    "\n",
    "PA/SO – Plate appearances per strikeout: number of times a batter strikes out to their plate appearance\n",
    "\n",
    "SB – Stolen base: number of bases advanced by the runner while the ball is in the possession of the defense\n",
    "\n",
    "RA – Run average: number of runs allowed times nine divided by innings pitched\n",
    "\n",
    "ER – Earned run: number of runs that did not occur as a result of errors or passed balls\n",
    "\n",
    "ERA – Earned run average: total number of earned runs (see \"ER\" above), multiplied by 9, divided by innings pitched\n",
    "\n",
    "CG – Complete game: number of games where player was the only pitcher for their team\n",
    "\n",
    "SHO – Shutout: number of complete games pitched with no runs allowed\n",
    "\n",
    "SV – Save: number of games where the pitcher enters a game led by the pitcher's team, finishes the game without surrendering the lead, is not the winning pitcher, and either (a) the lead was three runs or fewer when the pitcher entered the game; (b) the potential tying run was on base, at bat, or on deck; or (c) the pitcher pitched three or more innings\n",
    "\n",
    "E – Errors: number of times a fielder fails to make a play he should have made with common effort, and the offense benefits as a result\n",
    "\n",
    "\n",
    "Following is the features of 2014 baseball stats and the target variable is W."
   ]
  },
  {
   "cell_type": "code",
   "execution_count": 229,
   "id": "4d71e47b",
   "metadata": {},
   "outputs": [],
   "source": [
    "df=pd.read_csv('baseball.csv')"
   ]
  },
  {
   "cell_type": "code",
   "execution_count": 230,
   "id": "e268eaa1",
   "metadata": {},
   "outputs": [
    {
     "data": {
      "text/html": [
       "<div>\n",
       "<style scoped>\n",
       "    .dataframe tbody tr th:only-of-type {\n",
       "        vertical-align: middle;\n",
       "    }\n",
       "\n",
       "    .dataframe tbody tr th {\n",
       "        vertical-align: top;\n",
       "    }\n",
       "\n",
       "    .dataframe thead th {\n",
       "        text-align: right;\n",
       "    }\n",
       "</style>\n",
       "<table border=\"1\" class=\"dataframe\">\n",
       "  <thead>\n",
       "    <tr style=\"text-align: right;\">\n",
       "      <th></th>\n",
       "      <th>W</th>\n",
       "      <th>R</th>\n",
       "      <th>AB</th>\n",
       "      <th>H</th>\n",
       "      <th>2B</th>\n",
       "      <th>3B</th>\n",
       "      <th>HR</th>\n",
       "      <th>BB</th>\n",
       "      <th>SO</th>\n",
       "      <th>SB</th>\n",
       "      <th>RA</th>\n",
       "      <th>ER</th>\n",
       "      <th>ERA</th>\n",
       "      <th>CG</th>\n",
       "      <th>SHO</th>\n",
       "      <th>SV</th>\n",
       "      <th>E</th>\n",
       "    </tr>\n",
       "  </thead>\n",
       "  <tbody>\n",
       "    <tr>\n",
       "      <th>0</th>\n",
       "      <td>95</td>\n",
       "      <td>724</td>\n",
       "      <td>5575</td>\n",
       "      <td>1497</td>\n",
       "      <td>300</td>\n",
       "      <td>42</td>\n",
       "      <td>139</td>\n",
       "      <td>383</td>\n",
       "      <td>973</td>\n",
       "      <td>104</td>\n",
       "      <td>641</td>\n",
       "      <td>601</td>\n",
       "      <td>3.73</td>\n",
       "      <td>2</td>\n",
       "      <td>8</td>\n",
       "      <td>56</td>\n",
       "      <td>88</td>\n",
       "    </tr>\n",
       "    <tr>\n",
       "      <th>1</th>\n",
       "      <td>83</td>\n",
       "      <td>696</td>\n",
       "      <td>5467</td>\n",
       "      <td>1349</td>\n",
       "      <td>277</td>\n",
       "      <td>44</td>\n",
       "      <td>156</td>\n",
       "      <td>439</td>\n",
       "      <td>1264</td>\n",
       "      <td>70</td>\n",
       "      <td>700</td>\n",
       "      <td>653</td>\n",
       "      <td>4.07</td>\n",
       "      <td>2</td>\n",
       "      <td>12</td>\n",
       "      <td>45</td>\n",
       "      <td>86</td>\n",
       "    </tr>\n",
       "    <tr>\n",
       "      <th>2</th>\n",
       "      <td>81</td>\n",
       "      <td>669</td>\n",
       "      <td>5439</td>\n",
       "      <td>1395</td>\n",
       "      <td>303</td>\n",
       "      <td>29</td>\n",
       "      <td>141</td>\n",
       "      <td>533</td>\n",
       "      <td>1157</td>\n",
       "      <td>86</td>\n",
       "      <td>640</td>\n",
       "      <td>584</td>\n",
       "      <td>3.67</td>\n",
       "      <td>11</td>\n",
       "      <td>10</td>\n",
       "      <td>38</td>\n",
       "      <td>79</td>\n",
       "    </tr>\n",
       "    <tr>\n",
       "      <th>3</th>\n",
       "      <td>76</td>\n",
       "      <td>622</td>\n",
       "      <td>5533</td>\n",
       "      <td>1381</td>\n",
       "      <td>260</td>\n",
       "      <td>27</td>\n",
       "      <td>136</td>\n",
       "      <td>404</td>\n",
       "      <td>1231</td>\n",
       "      <td>68</td>\n",
       "      <td>701</td>\n",
       "      <td>643</td>\n",
       "      <td>3.98</td>\n",
       "      <td>7</td>\n",
       "      <td>9</td>\n",
       "      <td>37</td>\n",
       "      <td>101</td>\n",
       "    </tr>\n",
       "    <tr>\n",
       "      <th>4</th>\n",
       "      <td>74</td>\n",
       "      <td>689</td>\n",
       "      <td>5605</td>\n",
       "      <td>1515</td>\n",
       "      <td>289</td>\n",
       "      <td>49</td>\n",
       "      <td>151</td>\n",
       "      <td>455</td>\n",
       "      <td>1259</td>\n",
       "      <td>83</td>\n",
       "      <td>803</td>\n",
       "      <td>746</td>\n",
       "      <td>4.64</td>\n",
       "      <td>7</td>\n",
       "      <td>12</td>\n",
       "      <td>35</td>\n",
       "      <td>86</td>\n",
       "    </tr>\n",
       "    <tr>\n",
       "      <th>5</th>\n",
       "      <td>93</td>\n",
       "      <td>891</td>\n",
       "      <td>5509</td>\n",
       "      <td>1480</td>\n",
       "      <td>308</td>\n",
       "      <td>17</td>\n",
       "      <td>232</td>\n",
       "      <td>570</td>\n",
       "      <td>1151</td>\n",
       "      <td>88</td>\n",
       "      <td>670</td>\n",
       "      <td>609</td>\n",
       "      <td>3.80</td>\n",
       "      <td>7</td>\n",
       "      <td>10</td>\n",
       "      <td>34</td>\n",
       "      <td>88</td>\n",
       "    </tr>\n",
       "    <tr>\n",
       "      <th>6</th>\n",
       "      <td>87</td>\n",
       "      <td>764</td>\n",
       "      <td>5567</td>\n",
       "      <td>1397</td>\n",
       "      <td>272</td>\n",
       "      <td>19</td>\n",
       "      <td>212</td>\n",
       "      <td>554</td>\n",
       "      <td>1227</td>\n",
       "      <td>63</td>\n",
       "      <td>698</td>\n",
       "      <td>652</td>\n",
       "      <td>4.03</td>\n",
       "      <td>3</td>\n",
       "      <td>4</td>\n",
       "      <td>48</td>\n",
       "      <td>93</td>\n",
       "    </tr>\n",
       "    <tr>\n",
       "      <th>7</th>\n",
       "      <td>81</td>\n",
       "      <td>713</td>\n",
       "      <td>5485</td>\n",
       "      <td>1370</td>\n",
       "      <td>246</td>\n",
       "      <td>20</td>\n",
       "      <td>217</td>\n",
       "      <td>418</td>\n",
       "      <td>1331</td>\n",
       "      <td>44</td>\n",
       "      <td>693</td>\n",
       "      <td>646</td>\n",
       "      <td>4.05</td>\n",
       "      <td>0</td>\n",
       "      <td>10</td>\n",
       "      <td>43</td>\n",
       "      <td>77</td>\n",
       "    </tr>\n",
       "    <tr>\n",
       "      <th>8</th>\n",
       "      <td>80</td>\n",
       "      <td>644</td>\n",
       "      <td>5485</td>\n",
       "      <td>1383</td>\n",
       "      <td>278</td>\n",
       "      <td>32</td>\n",
       "      <td>167</td>\n",
       "      <td>436</td>\n",
       "      <td>1310</td>\n",
       "      <td>87</td>\n",
       "      <td>642</td>\n",
       "      <td>604</td>\n",
       "      <td>3.74</td>\n",
       "      <td>1</td>\n",
       "      <td>12</td>\n",
       "      <td>60</td>\n",
       "      <td>95</td>\n",
       "    </tr>\n",
       "    <tr>\n",
       "      <th>9</th>\n",
       "      <td>78</td>\n",
       "      <td>748</td>\n",
       "      <td>5640</td>\n",
       "      <td>1495</td>\n",
       "      <td>294</td>\n",
       "      <td>33</td>\n",
       "      <td>161</td>\n",
       "      <td>478</td>\n",
       "      <td>1148</td>\n",
       "      <td>71</td>\n",
       "      <td>753</td>\n",
       "      <td>694</td>\n",
       "      <td>4.31</td>\n",
       "      <td>3</td>\n",
       "      <td>10</td>\n",
       "      <td>40</td>\n",
       "      <td>97</td>\n",
       "    </tr>\n",
       "    <tr>\n",
       "      <th>10</th>\n",
       "      <td>88</td>\n",
       "      <td>751</td>\n",
       "      <td>5511</td>\n",
       "      <td>1419</td>\n",
       "      <td>279</td>\n",
       "      <td>32</td>\n",
       "      <td>172</td>\n",
       "      <td>503</td>\n",
       "      <td>1233</td>\n",
       "      <td>101</td>\n",
       "      <td>733</td>\n",
       "      <td>680</td>\n",
       "      <td>4.24</td>\n",
       "      <td>5</td>\n",
       "      <td>9</td>\n",
       "      <td>45</td>\n",
       "      <td>119</td>\n",
       "    </tr>\n",
       "    <tr>\n",
       "      <th>11</th>\n",
       "      <td>86</td>\n",
       "      <td>729</td>\n",
       "      <td>5459</td>\n",
       "      <td>1363</td>\n",
       "      <td>278</td>\n",
       "      <td>26</td>\n",
       "      <td>230</td>\n",
       "      <td>486</td>\n",
       "      <td>1392</td>\n",
       "      <td>121</td>\n",
       "      <td>618</td>\n",
       "      <td>572</td>\n",
       "      <td>3.57</td>\n",
       "      <td>5</td>\n",
       "      <td>13</td>\n",
       "      <td>39</td>\n",
       "      <td>85</td>\n",
       "    </tr>\n",
       "    <tr>\n",
       "      <th>12</th>\n",
       "      <td>85</td>\n",
       "      <td>661</td>\n",
       "      <td>5417</td>\n",
       "      <td>1331</td>\n",
       "      <td>243</td>\n",
       "      <td>21</td>\n",
       "      <td>176</td>\n",
       "      <td>435</td>\n",
       "      <td>1150</td>\n",
       "      <td>52</td>\n",
       "      <td>675</td>\n",
       "      <td>630</td>\n",
       "      <td>3.94</td>\n",
       "      <td>2</td>\n",
       "      <td>12</td>\n",
       "      <td>46</td>\n",
       "      <td>93</td>\n",
       "    </tr>\n",
       "    <tr>\n",
       "      <th>13</th>\n",
       "      <td>76</td>\n",
       "      <td>656</td>\n",
       "      <td>5544</td>\n",
       "      <td>1379</td>\n",
       "      <td>262</td>\n",
       "      <td>22</td>\n",
       "      <td>198</td>\n",
       "      <td>478</td>\n",
       "      <td>1336</td>\n",
       "      <td>69</td>\n",
       "      <td>726</td>\n",
       "      <td>677</td>\n",
       "      <td>4.16</td>\n",
       "      <td>6</td>\n",
       "      <td>12</td>\n",
       "      <td>45</td>\n",
       "      <td>94</td>\n",
       "    </tr>\n",
       "    <tr>\n",
       "      <th>14</th>\n",
       "      <td>68</td>\n",
       "      <td>694</td>\n",
       "      <td>5600</td>\n",
       "      <td>1405</td>\n",
       "      <td>277</td>\n",
       "      <td>46</td>\n",
       "      <td>146</td>\n",
       "      <td>475</td>\n",
       "      <td>1119</td>\n",
       "      <td>78</td>\n",
       "      <td>729</td>\n",
       "      <td>664</td>\n",
       "      <td>4.14</td>\n",
       "      <td>5</td>\n",
       "      <td>15</td>\n",
       "      <td>28</td>\n",
       "      <td>126</td>\n",
       "    </tr>\n",
       "    <tr>\n",
       "      <th>15</th>\n",
       "      <td>100</td>\n",
       "      <td>647</td>\n",
       "      <td>5484</td>\n",
       "      <td>1386</td>\n",
       "      <td>288</td>\n",
       "      <td>39</td>\n",
       "      <td>137</td>\n",
       "      <td>506</td>\n",
       "      <td>1267</td>\n",
       "      <td>69</td>\n",
       "      <td>525</td>\n",
       "      <td>478</td>\n",
       "      <td>2.94</td>\n",
       "      <td>1</td>\n",
       "      <td>15</td>\n",
       "      <td>62</td>\n",
       "      <td>96</td>\n",
       "    </tr>\n",
       "    <tr>\n",
       "      <th>16</th>\n",
       "      <td>98</td>\n",
       "      <td>697</td>\n",
       "      <td>5631</td>\n",
       "      <td>1462</td>\n",
       "      <td>292</td>\n",
       "      <td>27</td>\n",
       "      <td>140</td>\n",
       "      <td>461</td>\n",
       "      <td>1322</td>\n",
       "      <td>98</td>\n",
       "      <td>596</td>\n",
       "      <td>532</td>\n",
       "      <td>3.21</td>\n",
       "      <td>0</td>\n",
       "      <td>13</td>\n",
       "      <td>54</td>\n",
       "      <td>122</td>\n",
       "    </tr>\n",
       "    <tr>\n",
       "      <th>17</th>\n",
       "      <td>97</td>\n",
       "      <td>689</td>\n",
       "      <td>5491</td>\n",
       "      <td>1341</td>\n",
       "      <td>272</td>\n",
       "      <td>30</td>\n",
       "      <td>171</td>\n",
       "      <td>567</td>\n",
       "      <td>1518</td>\n",
       "      <td>95</td>\n",
       "      <td>608</td>\n",
       "      <td>546</td>\n",
       "      <td>3.36</td>\n",
       "      <td>6</td>\n",
       "      <td>21</td>\n",
       "      <td>48</td>\n",
       "      <td>111</td>\n",
       "    </tr>\n",
       "    <tr>\n",
       "      <th>18</th>\n",
       "      <td>68</td>\n",
       "      <td>655</td>\n",
       "      <td>5480</td>\n",
       "      <td>1378</td>\n",
       "      <td>274</td>\n",
       "      <td>34</td>\n",
       "      <td>145</td>\n",
       "      <td>412</td>\n",
       "      <td>1299</td>\n",
       "      <td>84</td>\n",
       "      <td>737</td>\n",
       "      <td>682</td>\n",
       "      <td>4.28</td>\n",
       "      <td>1</td>\n",
       "      <td>7</td>\n",
       "      <td>40</td>\n",
       "      <td>116</td>\n",
       "    </tr>\n",
       "    <tr>\n",
       "      <th>19</th>\n",
       "      <td>64</td>\n",
       "      <td>640</td>\n",
       "      <td>5571</td>\n",
       "      <td>1382</td>\n",
       "      <td>257</td>\n",
       "      <td>27</td>\n",
       "      <td>167</td>\n",
       "      <td>496</td>\n",
       "      <td>1255</td>\n",
       "      <td>134</td>\n",
       "      <td>754</td>\n",
       "      <td>700</td>\n",
       "      <td>4.33</td>\n",
       "      <td>2</td>\n",
       "      <td>8</td>\n",
       "      <td>35</td>\n",
       "      <td>90</td>\n",
       "    </tr>\n",
       "    <tr>\n",
       "      <th>20</th>\n",
       "      <td>90</td>\n",
       "      <td>683</td>\n",
       "      <td>5527</td>\n",
       "      <td>1351</td>\n",
       "      <td>295</td>\n",
       "      <td>17</td>\n",
       "      <td>177</td>\n",
       "      <td>488</td>\n",
       "      <td>1290</td>\n",
       "      <td>51</td>\n",
       "      <td>613</td>\n",
       "      <td>557</td>\n",
       "      <td>3.43</td>\n",
       "      <td>1</td>\n",
       "      <td>14</td>\n",
       "      <td>50</td>\n",
       "      <td>88</td>\n",
       "    </tr>\n",
       "    <tr>\n",
       "      <th>21</th>\n",
       "      <td>83</td>\n",
       "      <td>703</td>\n",
       "      <td>5428</td>\n",
       "      <td>1363</td>\n",
       "      <td>265</td>\n",
       "      <td>13</td>\n",
       "      <td>177</td>\n",
       "      <td>539</td>\n",
       "      <td>1344</td>\n",
       "      <td>57</td>\n",
       "      <td>635</td>\n",
       "      <td>577</td>\n",
       "      <td>3.62</td>\n",
       "      <td>4</td>\n",
       "      <td>13</td>\n",
       "      <td>41</td>\n",
       "      <td>90</td>\n",
       "    </tr>\n",
       "    <tr>\n",
       "      <th>22</th>\n",
       "      <td>71</td>\n",
       "      <td>613</td>\n",
       "      <td>5463</td>\n",
       "      <td>1420</td>\n",
       "      <td>236</td>\n",
       "      <td>40</td>\n",
       "      <td>120</td>\n",
       "      <td>375</td>\n",
       "      <td>1150</td>\n",
       "      <td>112</td>\n",
       "      <td>678</td>\n",
       "      <td>638</td>\n",
       "      <td>4.02</td>\n",
       "      <td>0</td>\n",
       "      <td>12</td>\n",
       "      <td>35</td>\n",
       "      <td>77</td>\n",
       "    </tr>\n",
       "    <tr>\n",
       "      <th>23</th>\n",
       "      <td>67</td>\n",
       "      <td>573</td>\n",
       "      <td>5420</td>\n",
       "      <td>1361</td>\n",
       "      <td>251</td>\n",
       "      <td>18</td>\n",
       "      <td>100</td>\n",
       "      <td>471</td>\n",
       "      <td>1107</td>\n",
       "      <td>69</td>\n",
       "      <td>760</td>\n",
       "      <td>698</td>\n",
       "      <td>4.41</td>\n",
       "      <td>3</td>\n",
       "      <td>10</td>\n",
       "      <td>44</td>\n",
       "      <td>90</td>\n",
       "    </tr>\n",
       "    <tr>\n",
       "      <th>24</th>\n",
       "      <td>63</td>\n",
       "      <td>626</td>\n",
       "      <td>5529</td>\n",
       "      <td>1374</td>\n",
       "      <td>272</td>\n",
       "      <td>37</td>\n",
       "      <td>130</td>\n",
       "      <td>387</td>\n",
       "      <td>1274</td>\n",
       "      <td>88</td>\n",
       "      <td>809</td>\n",
       "      <td>749</td>\n",
       "      <td>4.69</td>\n",
       "      <td>1</td>\n",
       "      <td>7</td>\n",
       "      <td>35</td>\n",
       "      <td>117</td>\n",
       "    </tr>\n",
       "  </tbody>\n",
       "</table>\n",
       "</div>"
      ],
      "text/plain": [
       "      W    R    AB     H   2B  3B   HR   BB    SO   SB   RA   ER   ERA  CG  \\\n",
       "0    95  724  5575  1497  300  42  139  383   973  104  641  601  3.73   2   \n",
       "1    83  696  5467  1349  277  44  156  439  1264   70  700  653  4.07   2   \n",
       "2    81  669  5439  1395  303  29  141  533  1157   86  640  584  3.67  11   \n",
       "3    76  622  5533  1381  260  27  136  404  1231   68  701  643  3.98   7   \n",
       "4    74  689  5605  1515  289  49  151  455  1259   83  803  746  4.64   7   \n",
       "5    93  891  5509  1480  308  17  232  570  1151   88  670  609  3.80   7   \n",
       "6    87  764  5567  1397  272  19  212  554  1227   63  698  652  4.03   3   \n",
       "7    81  713  5485  1370  246  20  217  418  1331   44  693  646  4.05   0   \n",
       "8    80  644  5485  1383  278  32  167  436  1310   87  642  604  3.74   1   \n",
       "9    78  748  5640  1495  294  33  161  478  1148   71  753  694  4.31   3   \n",
       "10   88  751  5511  1419  279  32  172  503  1233  101  733  680  4.24   5   \n",
       "11   86  729  5459  1363  278  26  230  486  1392  121  618  572  3.57   5   \n",
       "12   85  661  5417  1331  243  21  176  435  1150   52  675  630  3.94   2   \n",
       "13   76  656  5544  1379  262  22  198  478  1336   69  726  677  4.16   6   \n",
       "14   68  694  5600  1405  277  46  146  475  1119   78  729  664  4.14   5   \n",
       "15  100  647  5484  1386  288  39  137  506  1267   69  525  478  2.94   1   \n",
       "16   98  697  5631  1462  292  27  140  461  1322   98  596  532  3.21   0   \n",
       "17   97  689  5491  1341  272  30  171  567  1518   95  608  546  3.36   6   \n",
       "18   68  655  5480  1378  274  34  145  412  1299   84  737  682  4.28   1   \n",
       "19   64  640  5571  1382  257  27  167  496  1255  134  754  700  4.33   2   \n",
       "20   90  683  5527  1351  295  17  177  488  1290   51  613  557  3.43   1   \n",
       "21   83  703  5428  1363  265  13  177  539  1344   57  635  577  3.62   4   \n",
       "22   71  613  5463  1420  236  40  120  375  1150  112  678  638  4.02   0   \n",
       "23   67  573  5420  1361  251  18  100  471  1107   69  760  698  4.41   3   \n",
       "24   63  626  5529  1374  272  37  130  387  1274   88  809  749  4.69   1   \n",
       "\n",
       "    SHO  SV    E  \n",
       "0     8  56   88  \n",
       "1    12  45   86  \n",
       "2    10  38   79  \n",
       "3     9  37  101  \n",
       "4    12  35   86  \n",
       "5    10  34   88  \n",
       "6     4  48   93  \n",
       "7    10  43   77  \n",
       "8    12  60   95  \n",
       "9    10  40   97  \n",
       "10    9  45  119  \n",
       "11   13  39   85  \n",
       "12   12  46   93  \n",
       "13   12  45   94  \n",
       "14   15  28  126  \n",
       "15   15  62   96  \n",
       "16   13  54  122  \n",
       "17   21  48  111  \n",
       "18    7  40  116  \n",
       "19    8  35   90  \n",
       "20   14  50   88  \n",
       "21   13  41   90  \n",
       "22   12  35   77  \n",
       "23   10  44   90  \n",
       "24    7  35  117  "
      ]
     },
     "execution_count": 230,
     "metadata": {},
     "output_type": "execute_result"
    }
   ],
   "source": [
    "df.head(25)"
   ]
  },
  {
   "cell_type": "code",
   "execution_count": 231,
   "id": "3b13d709",
   "metadata": {},
   "outputs": [
    {
     "data": {
      "text/html": [
       "<div>\n",
       "<style scoped>\n",
       "    .dataframe tbody tr th:only-of-type {\n",
       "        vertical-align: middle;\n",
       "    }\n",
       "\n",
       "    .dataframe tbody tr th {\n",
       "        vertical-align: top;\n",
       "    }\n",
       "\n",
       "    .dataframe thead th {\n",
       "        text-align: right;\n",
       "    }\n",
       "</style>\n",
       "<table border=\"1\" class=\"dataframe\">\n",
       "  <thead>\n",
       "    <tr style=\"text-align: right;\">\n",
       "      <th></th>\n",
       "      <th>W</th>\n",
       "      <th>R</th>\n",
       "      <th>AB</th>\n",
       "      <th>H</th>\n",
       "      <th>2B</th>\n",
       "      <th>3B</th>\n",
       "      <th>HR</th>\n",
       "      <th>BB</th>\n",
       "      <th>SO</th>\n",
       "      <th>SB</th>\n",
       "      <th>RA</th>\n",
       "      <th>ER</th>\n",
       "      <th>ERA</th>\n",
       "      <th>CG</th>\n",
       "      <th>SHO</th>\n",
       "      <th>SV</th>\n",
       "      <th>E</th>\n",
       "    </tr>\n",
       "  </thead>\n",
       "  <tbody>\n",
       "    <tr>\n",
       "      <th>5</th>\n",
       "      <td>93</td>\n",
       "      <td>891</td>\n",
       "      <td>5509</td>\n",
       "      <td>1480</td>\n",
       "      <td>308</td>\n",
       "      <td>17</td>\n",
       "      <td>232</td>\n",
       "      <td>570</td>\n",
       "      <td>1151</td>\n",
       "      <td>88</td>\n",
       "      <td>670</td>\n",
       "      <td>609</td>\n",
       "      <td>3.80</td>\n",
       "      <td>7</td>\n",
       "      <td>10</td>\n",
       "      <td>34</td>\n",
       "      <td>88</td>\n",
       "    </tr>\n",
       "    <tr>\n",
       "      <th>6</th>\n",
       "      <td>87</td>\n",
       "      <td>764</td>\n",
       "      <td>5567</td>\n",
       "      <td>1397</td>\n",
       "      <td>272</td>\n",
       "      <td>19</td>\n",
       "      <td>212</td>\n",
       "      <td>554</td>\n",
       "      <td>1227</td>\n",
       "      <td>63</td>\n",
       "      <td>698</td>\n",
       "      <td>652</td>\n",
       "      <td>4.03</td>\n",
       "      <td>3</td>\n",
       "      <td>4</td>\n",
       "      <td>48</td>\n",
       "      <td>93</td>\n",
       "    </tr>\n",
       "    <tr>\n",
       "      <th>7</th>\n",
       "      <td>81</td>\n",
       "      <td>713</td>\n",
       "      <td>5485</td>\n",
       "      <td>1370</td>\n",
       "      <td>246</td>\n",
       "      <td>20</td>\n",
       "      <td>217</td>\n",
       "      <td>418</td>\n",
       "      <td>1331</td>\n",
       "      <td>44</td>\n",
       "      <td>693</td>\n",
       "      <td>646</td>\n",
       "      <td>4.05</td>\n",
       "      <td>0</td>\n",
       "      <td>10</td>\n",
       "      <td>43</td>\n",
       "      <td>77</td>\n",
       "    </tr>\n",
       "    <tr>\n",
       "      <th>8</th>\n",
       "      <td>80</td>\n",
       "      <td>644</td>\n",
       "      <td>5485</td>\n",
       "      <td>1383</td>\n",
       "      <td>278</td>\n",
       "      <td>32</td>\n",
       "      <td>167</td>\n",
       "      <td>436</td>\n",
       "      <td>1310</td>\n",
       "      <td>87</td>\n",
       "      <td>642</td>\n",
       "      <td>604</td>\n",
       "      <td>3.74</td>\n",
       "      <td>1</td>\n",
       "      <td>12</td>\n",
       "      <td>60</td>\n",
       "      <td>95</td>\n",
       "    </tr>\n",
       "    <tr>\n",
       "      <th>9</th>\n",
       "      <td>78</td>\n",
       "      <td>748</td>\n",
       "      <td>5640</td>\n",
       "      <td>1495</td>\n",
       "      <td>294</td>\n",
       "      <td>33</td>\n",
       "      <td>161</td>\n",
       "      <td>478</td>\n",
       "      <td>1148</td>\n",
       "      <td>71</td>\n",
       "      <td>753</td>\n",
       "      <td>694</td>\n",
       "      <td>4.31</td>\n",
       "      <td>3</td>\n",
       "      <td>10</td>\n",
       "      <td>40</td>\n",
       "      <td>97</td>\n",
       "    </tr>\n",
       "    <tr>\n",
       "      <th>10</th>\n",
       "      <td>88</td>\n",
       "      <td>751</td>\n",
       "      <td>5511</td>\n",
       "      <td>1419</td>\n",
       "      <td>279</td>\n",
       "      <td>32</td>\n",
       "      <td>172</td>\n",
       "      <td>503</td>\n",
       "      <td>1233</td>\n",
       "      <td>101</td>\n",
       "      <td>733</td>\n",
       "      <td>680</td>\n",
       "      <td>4.24</td>\n",
       "      <td>5</td>\n",
       "      <td>9</td>\n",
       "      <td>45</td>\n",
       "      <td>119</td>\n",
       "    </tr>\n",
       "    <tr>\n",
       "      <th>11</th>\n",
       "      <td>86</td>\n",
       "      <td>729</td>\n",
       "      <td>5459</td>\n",
       "      <td>1363</td>\n",
       "      <td>278</td>\n",
       "      <td>26</td>\n",
       "      <td>230</td>\n",
       "      <td>486</td>\n",
       "      <td>1392</td>\n",
       "      <td>121</td>\n",
       "      <td>618</td>\n",
       "      <td>572</td>\n",
       "      <td>3.57</td>\n",
       "      <td>5</td>\n",
       "      <td>13</td>\n",
       "      <td>39</td>\n",
       "      <td>85</td>\n",
       "    </tr>\n",
       "    <tr>\n",
       "      <th>12</th>\n",
       "      <td>85</td>\n",
       "      <td>661</td>\n",
       "      <td>5417</td>\n",
       "      <td>1331</td>\n",
       "      <td>243</td>\n",
       "      <td>21</td>\n",
       "      <td>176</td>\n",
       "      <td>435</td>\n",
       "      <td>1150</td>\n",
       "      <td>52</td>\n",
       "      <td>675</td>\n",
       "      <td>630</td>\n",
       "      <td>3.94</td>\n",
       "      <td>2</td>\n",
       "      <td>12</td>\n",
       "      <td>46</td>\n",
       "      <td>93</td>\n",
       "    </tr>\n",
       "    <tr>\n",
       "      <th>13</th>\n",
       "      <td>76</td>\n",
       "      <td>656</td>\n",
       "      <td>5544</td>\n",
       "      <td>1379</td>\n",
       "      <td>262</td>\n",
       "      <td>22</td>\n",
       "      <td>198</td>\n",
       "      <td>478</td>\n",
       "      <td>1336</td>\n",
       "      <td>69</td>\n",
       "      <td>726</td>\n",
       "      <td>677</td>\n",
       "      <td>4.16</td>\n",
       "      <td>6</td>\n",
       "      <td>12</td>\n",
       "      <td>45</td>\n",
       "      <td>94</td>\n",
       "    </tr>\n",
       "    <tr>\n",
       "      <th>14</th>\n",
       "      <td>68</td>\n",
       "      <td>694</td>\n",
       "      <td>5600</td>\n",
       "      <td>1405</td>\n",
       "      <td>277</td>\n",
       "      <td>46</td>\n",
       "      <td>146</td>\n",
       "      <td>475</td>\n",
       "      <td>1119</td>\n",
       "      <td>78</td>\n",
       "      <td>729</td>\n",
       "      <td>664</td>\n",
       "      <td>4.14</td>\n",
       "      <td>5</td>\n",
       "      <td>15</td>\n",
       "      <td>28</td>\n",
       "      <td>126</td>\n",
       "    </tr>\n",
       "    <tr>\n",
       "      <th>15</th>\n",
       "      <td>100</td>\n",
       "      <td>647</td>\n",
       "      <td>5484</td>\n",
       "      <td>1386</td>\n",
       "      <td>288</td>\n",
       "      <td>39</td>\n",
       "      <td>137</td>\n",
       "      <td>506</td>\n",
       "      <td>1267</td>\n",
       "      <td>69</td>\n",
       "      <td>525</td>\n",
       "      <td>478</td>\n",
       "      <td>2.94</td>\n",
       "      <td>1</td>\n",
       "      <td>15</td>\n",
       "      <td>62</td>\n",
       "      <td>96</td>\n",
       "    </tr>\n",
       "    <tr>\n",
       "      <th>16</th>\n",
       "      <td>98</td>\n",
       "      <td>697</td>\n",
       "      <td>5631</td>\n",
       "      <td>1462</td>\n",
       "      <td>292</td>\n",
       "      <td>27</td>\n",
       "      <td>140</td>\n",
       "      <td>461</td>\n",
       "      <td>1322</td>\n",
       "      <td>98</td>\n",
       "      <td>596</td>\n",
       "      <td>532</td>\n",
       "      <td>3.21</td>\n",
       "      <td>0</td>\n",
       "      <td>13</td>\n",
       "      <td>54</td>\n",
       "      <td>122</td>\n",
       "    </tr>\n",
       "    <tr>\n",
       "      <th>17</th>\n",
       "      <td>97</td>\n",
       "      <td>689</td>\n",
       "      <td>5491</td>\n",
       "      <td>1341</td>\n",
       "      <td>272</td>\n",
       "      <td>30</td>\n",
       "      <td>171</td>\n",
       "      <td>567</td>\n",
       "      <td>1518</td>\n",
       "      <td>95</td>\n",
       "      <td>608</td>\n",
       "      <td>546</td>\n",
       "      <td>3.36</td>\n",
       "      <td>6</td>\n",
       "      <td>21</td>\n",
       "      <td>48</td>\n",
       "      <td>111</td>\n",
       "    </tr>\n",
       "    <tr>\n",
       "      <th>18</th>\n",
       "      <td>68</td>\n",
       "      <td>655</td>\n",
       "      <td>5480</td>\n",
       "      <td>1378</td>\n",
       "      <td>274</td>\n",
       "      <td>34</td>\n",
       "      <td>145</td>\n",
       "      <td>412</td>\n",
       "      <td>1299</td>\n",
       "      <td>84</td>\n",
       "      <td>737</td>\n",
       "      <td>682</td>\n",
       "      <td>4.28</td>\n",
       "      <td>1</td>\n",
       "      <td>7</td>\n",
       "      <td>40</td>\n",
       "      <td>116</td>\n",
       "    </tr>\n",
       "    <tr>\n",
       "      <th>19</th>\n",
       "      <td>64</td>\n",
       "      <td>640</td>\n",
       "      <td>5571</td>\n",
       "      <td>1382</td>\n",
       "      <td>257</td>\n",
       "      <td>27</td>\n",
       "      <td>167</td>\n",
       "      <td>496</td>\n",
       "      <td>1255</td>\n",
       "      <td>134</td>\n",
       "      <td>754</td>\n",
       "      <td>700</td>\n",
       "      <td>4.33</td>\n",
       "      <td>2</td>\n",
       "      <td>8</td>\n",
       "      <td>35</td>\n",
       "      <td>90</td>\n",
       "    </tr>\n",
       "    <tr>\n",
       "      <th>20</th>\n",
       "      <td>90</td>\n",
       "      <td>683</td>\n",
       "      <td>5527</td>\n",
       "      <td>1351</td>\n",
       "      <td>295</td>\n",
       "      <td>17</td>\n",
       "      <td>177</td>\n",
       "      <td>488</td>\n",
       "      <td>1290</td>\n",
       "      <td>51</td>\n",
       "      <td>613</td>\n",
       "      <td>557</td>\n",
       "      <td>3.43</td>\n",
       "      <td>1</td>\n",
       "      <td>14</td>\n",
       "      <td>50</td>\n",
       "      <td>88</td>\n",
       "    </tr>\n",
       "    <tr>\n",
       "      <th>21</th>\n",
       "      <td>83</td>\n",
       "      <td>703</td>\n",
       "      <td>5428</td>\n",
       "      <td>1363</td>\n",
       "      <td>265</td>\n",
       "      <td>13</td>\n",
       "      <td>177</td>\n",
       "      <td>539</td>\n",
       "      <td>1344</td>\n",
       "      <td>57</td>\n",
       "      <td>635</td>\n",
       "      <td>577</td>\n",
       "      <td>3.62</td>\n",
       "      <td>4</td>\n",
       "      <td>13</td>\n",
       "      <td>41</td>\n",
       "      <td>90</td>\n",
       "    </tr>\n",
       "    <tr>\n",
       "      <th>22</th>\n",
       "      <td>71</td>\n",
       "      <td>613</td>\n",
       "      <td>5463</td>\n",
       "      <td>1420</td>\n",
       "      <td>236</td>\n",
       "      <td>40</td>\n",
       "      <td>120</td>\n",
       "      <td>375</td>\n",
       "      <td>1150</td>\n",
       "      <td>112</td>\n",
       "      <td>678</td>\n",
       "      <td>638</td>\n",
       "      <td>4.02</td>\n",
       "      <td>0</td>\n",
       "      <td>12</td>\n",
       "      <td>35</td>\n",
       "      <td>77</td>\n",
       "    </tr>\n",
       "    <tr>\n",
       "      <th>23</th>\n",
       "      <td>67</td>\n",
       "      <td>573</td>\n",
       "      <td>5420</td>\n",
       "      <td>1361</td>\n",
       "      <td>251</td>\n",
       "      <td>18</td>\n",
       "      <td>100</td>\n",
       "      <td>471</td>\n",
       "      <td>1107</td>\n",
       "      <td>69</td>\n",
       "      <td>760</td>\n",
       "      <td>698</td>\n",
       "      <td>4.41</td>\n",
       "      <td>3</td>\n",
       "      <td>10</td>\n",
       "      <td>44</td>\n",
       "      <td>90</td>\n",
       "    </tr>\n",
       "    <tr>\n",
       "      <th>24</th>\n",
       "      <td>63</td>\n",
       "      <td>626</td>\n",
       "      <td>5529</td>\n",
       "      <td>1374</td>\n",
       "      <td>272</td>\n",
       "      <td>37</td>\n",
       "      <td>130</td>\n",
       "      <td>387</td>\n",
       "      <td>1274</td>\n",
       "      <td>88</td>\n",
       "      <td>809</td>\n",
       "      <td>749</td>\n",
       "      <td>4.69</td>\n",
       "      <td>1</td>\n",
       "      <td>7</td>\n",
       "      <td>35</td>\n",
       "      <td>117</td>\n",
       "    </tr>\n",
       "    <tr>\n",
       "      <th>25</th>\n",
       "      <td>92</td>\n",
       "      <td>667</td>\n",
       "      <td>5385</td>\n",
       "      <td>1346</td>\n",
       "      <td>263</td>\n",
       "      <td>26</td>\n",
       "      <td>187</td>\n",
       "      <td>563</td>\n",
       "      <td>1258</td>\n",
       "      <td>59</td>\n",
       "      <td>595</td>\n",
       "      <td>553</td>\n",
       "      <td>3.44</td>\n",
       "      <td>6</td>\n",
       "      <td>21</td>\n",
       "      <td>47</td>\n",
       "      <td>75</td>\n",
       "    </tr>\n",
       "    <tr>\n",
       "      <th>26</th>\n",
       "      <td>84</td>\n",
       "      <td>696</td>\n",
       "      <td>5565</td>\n",
       "      <td>1486</td>\n",
       "      <td>288</td>\n",
       "      <td>39</td>\n",
       "      <td>136</td>\n",
       "      <td>457</td>\n",
       "      <td>1159</td>\n",
       "      <td>93</td>\n",
       "      <td>627</td>\n",
       "      <td>597</td>\n",
       "      <td>3.72</td>\n",
       "      <td>7</td>\n",
       "      <td>18</td>\n",
       "      <td>41</td>\n",
       "      <td>78</td>\n",
       "    </tr>\n",
       "    <tr>\n",
       "      <th>27</th>\n",
       "      <td>79</td>\n",
       "      <td>720</td>\n",
       "      <td>5649</td>\n",
       "      <td>1494</td>\n",
       "      <td>289</td>\n",
       "      <td>48</td>\n",
       "      <td>154</td>\n",
       "      <td>490</td>\n",
       "      <td>1312</td>\n",
       "      <td>132</td>\n",
       "      <td>713</td>\n",
       "      <td>659</td>\n",
       "      <td>4.04</td>\n",
       "      <td>1</td>\n",
       "      <td>12</td>\n",
       "      <td>44</td>\n",
       "      <td>86</td>\n",
       "    </tr>\n",
       "    <tr>\n",
       "      <th>28</th>\n",
       "      <td>74</td>\n",
       "      <td>650</td>\n",
       "      <td>5457</td>\n",
       "      <td>1324</td>\n",
       "      <td>260</td>\n",
       "      <td>36</td>\n",
       "      <td>148</td>\n",
       "      <td>426</td>\n",
       "      <td>1327</td>\n",
       "      <td>82</td>\n",
       "      <td>731</td>\n",
       "      <td>655</td>\n",
       "      <td>4.09</td>\n",
       "      <td>1</td>\n",
       "      <td>6</td>\n",
       "      <td>41</td>\n",
       "      <td>92</td>\n",
       "    </tr>\n",
       "    <tr>\n",
       "      <th>29</th>\n",
       "      <td>68</td>\n",
       "      <td>737</td>\n",
       "      <td>5572</td>\n",
       "      <td>1479</td>\n",
       "      <td>274</td>\n",
       "      <td>49</td>\n",
       "      <td>186</td>\n",
       "      <td>388</td>\n",
       "      <td>1283</td>\n",
       "      <td>97</td>\n",
       "      <td>844</td>\n",
       "      <td>799</td>\n",
       "      <td>5.04</td>\n",
       "      <td>4</td>\n",
       "      <td>4</td>\n",
       "      <td>36</td>\n",
       "      <td>95</td>\n",
       "    </tr>\n",
       "  </tbody>\n",
       "</table>\n",
       "</div>"
      ],
      "text/plain": [
       "      W    R    AB     H   2B  3B   HR   BB    SO   SB   RA   ER   ERA  CG  \\\n",
       "5    93  891  5509  1480  308  17  232  570  1151   88  670  609  3.80   7   \n",
       "6    87  764  5567  1397  272  19  212  554  1227   63  698  652  4.03   3   \n",
       "7    81  713  5485  1370  246  20  217  418  1331   44  693  646  4.05   0   \n",
       "8    80  644  5485  1383  278  32  167  436  1310   87  642  604  3.74   1   \n",
       "9    78  748  5640  1495  294  33  161  478  1148   71  753  694  4.31   3   \n",
       "10   88  751  5511  1419  279  32  172  503  1233  101  733  680  4.24   5   \n",
       "11   86  729  5459  1363  278  26  230  486  1392  121  618  572  3.57   5   \n",
       "12   85  661  5417  1331  243  21  176  435  1150   52  675  630  3.94   2   \n",
       "13   76  656  5544  1379  262  22  198  478  1336   69  726  677  4.16   6   \n",
       "14   68  694  5600  1405  277  46  146  475  1119   78  729  664  4.14   5   \n",
       "15  100  647  5484  1386  288  39  137  506  1267   69  525  478  2.94   1   \n",
       "16   98  697  5631  1462  292  27  140  461  1322   98  596  532  3.21   0   \n",
       "17   97  689  5491  1341  272  30  171  567  1518   95  608  546  3.36   6   \n",
       "18   68  655  5480  1378  274  34  145  412  1299   84  737  682  4.28   1   \n",
       "19   64  640  5571  1382  257  27  167  496  1255  134  754  700  4.33   2   \n",
       "20   90  683  5527  1351  295  17  177  488  1290   51  613  557  3.43   1   \n",
       "21   83  703  5428  1363  265  13  177  539  1344   57  635  577  3.62   4   \n",
       "22   71  613  5463  1420  236  40  120  375  1150  112  678  638  4.02   0   \n",
       "23   67  573  5420  1361  251  18  100  471  1107   69  760  698  4.41   3   \n",
       "24   63  626  5529  1374  272  37  130  387  1274   88  809  749  4.69   1   \n",
       "25   92  667  5385  1346  263  26  187  563  1258   59  595  553  3.44   6   \n",
       "26   84  696  5565  1486  288  39  136  457  1159   93  627  597  3.72   7   \n",
       "27   79  720  5649  1494  289  48  154  490  1312  132  713  659  4.04   1   \n",
       "28   74  650  5457  1324  260  36  148  426  1327   82  731  655  4.09   1   \n",
       "29   68  737  5572  1479  274  49  186  388  1283   97  844  799  5.04   4   \n",
       "\n",
       "    SHO  SV    E  \n",
       "5    10  34   88  \n",
       "6     4  48   93  \n",
       "7    10  43   77  \n",
       "8    12  60   95  \n",
       "9    10  40   97  \n",
       "10    9  45  119  \n",
       "11   13  39   85  \n",
       "12   12  46   93  \n",
       "13   12  45   94  \n",
       "14   15  28  126  \n",
       "15   15  62   96  \n",
       "16   13  54  122  \n",
       "17   21  48  111  \n",
       "18    7  40  116  \n",
       "19    8  35   90  \n",
       "20   14  50   88  \n",
       "21   13  41   90  \n",
       "22   12  35   77  \n",
       "23   10  44   90  \n",
       "24    7  35  117  \n",
       "25   21  47   75  \n",
       "26   18  41   78  \n",
       "27   12  44   86  \n",
       "28    6  41   92  \n",
       "29    4  36   95  "
      ]
     },
     "execution_count": 231,
     "metadata": {},
     "output_type": "execute_result"
    }
   ],
   "source": [
    "df.tail(25)"
   ]
  },
  {
   "cell_type": "code",
   "execution_count": 232,
   "id": "49417abe",
   "metadata": {},
   "outputs": [
    {
     "data": {
      "text/plain": [
       "W      0\n",
       "R      0\n",
       "AB     0\n",
       "H      0\n",
       "2B     0\n",
       "3B     0\n",
       "HR     0\n",
       "BB     0\n",
       "SO     0\n",
       "SB     0\n",
       "RA     0\n",
       "ER     0\n",
       "ERA    0\n",
       "CG     0\n",
       "SHO    0\n",
       "SV     0\n",
       "E      0\n",
       "dtype: int64"
      ]
     },
     "execution_count": 232,
     "metadata": {},
     "output_type": "execute_result"
    }
   ],
   "source": [
    "## checking null value in dataset\n",
    "df.isnull().sum()"
   ]
  },
  {
   "cell_type": "code",
   "execution_count": 233,
   "id": "f5088895",
   "metadata": {},
   "outputs": [
    {
     "name": "stdout",
     "output_type": "stream",
     "text": [
      "<class 'pandas.core.frame.DataFrame'>\n",
      "RangeIndex: 30 entries, 0 to 29\n",
      "Data columns (total 17 columns):\n",
      " #   Column  Non-Null Count  Dtype  \n",
      "---  ------  --------------  -----  \n",
      " 0   W       30 non-null     int64  \n",
      " 1   R       30 non-null     int64  \n",
      " 2   AB      30 non-null     int64  \n",
      " 3   H       30 non-null     int64  \n",
      " 4   2B      30 non-null     int64  \n",
      " 5   3B      30 non-null     int64  \n",
      " 6   HR      30 non-null     int64  \n",
      " 7   BB      30 non-null     int64  \n",
      " 8   SO      30 non-null     int64  \n",
      " 9   SB      30 non-null     int64  \n",
      " 10  RA      30 non-null     int64  \n",
      " 11  ER      30 non-null     int64  \n",
      " 12  ERA     30 non-null     float64\n",
      " 13  CG      30 non-null     int64  \n",
      " 14  SHO     30 non-null     int64  \n",
      " 15  SV      30 non-null     int64  \n",
      " 16  E       30 non-null     int64  \n",
      "dtypes: float64(1), int64(16)\n",
      "memory usage: 4.1 KB\n"
     ]
    }
   ],
   "source": [
    "df.info()"
   ]
  },
  {
   "cell_type": "code",
   "execution_count": 234,
   "id": "038fb626",
   "metadata": {},
   "outputs": [
    {
     "data": {
      "text/plain": [
       "(30, 17)"
      ]
     },
     "execution_count": 234,
     "metadata": {},
     "output_type": "execute_result"
    }
   ],
   "source": [
    "df.shape\n"
   ]
  },
  {
   "cell_type": "markdown",
   "id": "62822880",
   "metadata": {},
   "source": [
    "## So it has 30 rows and 17 columns and datatypes is interger.\n"
   ]
  },
  {
   "cell_type": "code",
   "execution_count": 235,
   "id": "96b6362a",
   "metadata": {},
   "outputs": [
    {
     "data": {
      "text/plain": [
       "array([ 95,  83,  81,  76,  74,  93,  87,  80,  78,  88,  86,  85,  68,\n",
       "       100,  98,  97,  64,  90,  71,  67,  63,  92,  84,  79])"
      ]
     },
     "execution_count": 235,
     "metadata": {},
     "output_type": "execute_result"
    }
   ],
   "source": [
    "## Lets checck target variable\n",
    "df['W'].unique()"
   ]
  },
  {
   "cell_type": "markdown",
   "id": "ca8edd12",
   "metadata": {},
   "source": [
    "# EDA"
   ]
  },
  {
   "cell_type": "code",
   "execution_count": 236,
   "id": "59374716",
   "metadata": {},
   "outputs": [
    {
     "data": {
      "text/html": [
       "<div>\n",
       "<style scoped>\n",
       "    .dataframe tbody tr th:only-of-type {\n",
       "        vertical-align: middle;\n",
       "    }\n",
       "\n",
       "    .dataframe tbody tr th {\n",
       "        vertical-align: top;\n",
       "    }\n",
       "\n",
       "    .dataframe thead th {\n",
       "        text-align: right;\n",
       "    }\n",
       "</style>\n",
       "<table border=\"1\" class=\"dataframe\">\n",
       "  <thead>\n",
       "    <tr style=\"text-align: right;\">\n",
       "      <th></th>\n",
       "      <th>W</th>\n",
       "      <th>R</th>\n",
       "      <th>AB</th>\n",
       "      <th>H</th>\n",
       "      <th>2B</th>\n",
       "      <th>3B</th>\n",
       "      <th>HR</th>\n",
       "      <th>BB</th>\n",
       "      <th>SO</th>\n",
       "      <th>SB</th>\n",
       "      <th>RA</th>\n",
       "      <th>ER</th>\n",
       "      <th>ERA</th>\n",
       "      <th>CG</th>\n",
       "      <th>SHO</th>\n",
       "      <th>SV</th>\n",
       "      <th>E</th>\n",
       "    </tr>\n",
       "  </thead>\n",
       "  <tbody>\n",
       "    <tr>\n",
       "      <th>count</th>\n",
       "      <td>30.000000</td>\n",
       "      <td>30.000000</td>\n",
       "      <td>30.000000</td>\n",
       "      <td>30.000000</td>\n",
       "      <td>30.000000</td>\n",
       "      <td>30.000000</td>\n",
       "      <td>30.000000</td>\n",
       "      <td>30.000000</td>\n",
       "      <td>30.00000</td>\n",
       "      <td>30.000000</td>\n",
       "      <td>30.000000</td>\n",
       "      <td>30.000000</td>\n",
       "      <td>30.000000</td>\n",
       "      <td>30.000000</td>\n",
       "      <td>30.000000</td>\n",
       "      <td>30.000000</td>\n",
       "      <td>30.000000</td>\n",
       "    </tr>\n",
       "    <tr>\n",
       "      <th>mean</th>\n",
       "      <td>80.966667</td>\n",
       "      <td>688.233333</td>\n",
       "      <td>5516.266667</td>\n",
       "      <td>1403.533333</td>\n",
       "      <td>274.733333</td>\n",
       "      <td>31.300000</td>\n",
       "      <td>163.633333</td>\n",
       "      <td>469.100000</td>\n",
       "      <td>1248.20000</td>\n",
       "      <td>83.500000</td>\n",
       "      <td>688.233333</td>\n",
       "      <td>635.833333</td>\n",
       "      <td>3.956333</td>\n",
       "      <td>3.466667</td>\n",
       "      <td>11.300000</td>\n",
       "      <td>43.066667</td>\n",
       "      <td>94.333333</td>\n",
       "    </tr>\n",
       "    <tr>\n",
       "      <th>std</th>\n",
       "      <td>10.453455</td>\n",
       "      <td>58.761754</td>\n",
       "      <td>70.467372</td>\n",
       "      <td>57.140923</td>\n",
       "      <td>18.095405</td>\n",
       "      <td>10.452355</td>\n",
       "      <td>31.823309</td>\n",
       "      <td>57.053725</td>\n",
       "      <td>103.75947</td>\n",
       "      <td>22.815225</td>\n",
       "      <td>72.108005</td>\n",
       "      <td>70.140786</td>\n",
       "      <td>0.454089</td>\n",
       "      <td>2.763473</td>\n",
       "      <td>4.120177</td>\n",
       "      <td>7.869335</td>\n",
       "      <td>13.958889</td>\n",
       "    </tr>\n",
       "    <tr>\n",
       "      <th>min</th>\n",
       "      <td>63.000000</td>\n",
       "      <td>573.000000</td>\n",
       "      <td>5385.000000</td>\n",
       "      <td>1324.000000</td>\n",
       "      <td>236.000000</td>\n",
       "      <td>13.000000</td>\n",
       "      <td>100.000000</td>\n",
       "      <td>375.000000</td>\n",
       "      <td>973.00000</td>\n",
       "      <td>44.000000</td>\n",
       "      <td>525.000000</td>\n",
       "      <td>478.000000</td>\n",
       "      <td>2.940000</td>\n",
       "      <td>0.000000</td>\n",
       "      <td>4.000000</td>\n",
       "      <td>28.000000</td>\n",
       "      <td>75.000000</td>\n",
       "    </tr>\n",
       "    <tr>\n",
       "      <th>25%</th>\n",
       "      <td>74.000000</td>\n",
       "      <td>651.250000</td>\n",
       "      <td>5464.000000</td>\n",
       "      <td>1363.000000</td>\n",
       "      <td>262.250000</td>\n",
       "      <td>23.000000</td>\n",
       "      <td>140.250000</td>\n",
       "      <td>428.250000</td>\n",
       "      <td>1157.50000</td>\n",
       "      <td>69.000000</td>\n",
       "      <td>636.250000</td>\n",
       "      <td>587.250000</td>\n",
       "      <td>3.682500</td>\n",
       "      <td>1.000000</td>\n",
       "      <td>9.000000</td>\n",
       "      <td>37.250000</td>\n",
       "      <td>86.000000</td>\n",
       "    </tr>\n",
       "    <tr>\n",
       "      <th>50%</th>\n",
       "      <td>81.000000</td>\n",
       "      <td>689.000000</td>\n",
       "      <td>5510.000000</td>\n",
       "      <td>1382.500000</td>\n",
       "      <td>275.500000</td>\n",
       "      <td>31.000000</td>\n",
       "      <td>158.500000</td>\n",
       "      <td>473.000000</td>\n",
       "      <td>1261.50000</td>\n",
       "      <td>83.500000</td>\n",
       "      <td>695.500000</td>\n",
       "      <td>644.500000</td>\n",
       "      <td>4.025000</td>\n",
       "      <td>3.000000</td>\n",
       "      <td>12.000000</td>\n",
       "      <td>42.000000</td>\n",
       "      <td>91.000000</td>\n",
       "    </tr>\n",
       "    <tr>\n",
       "      <th>75%</th>\n",
       "      <td>87.750000</td>\n",
       "      <td>718.250000</td>\n",
       "      <td>5570.000000</td>\n",
       "      <td>1451.500000</td>\n",
       "      <td>288.750000</td>\n",
       "      <td>39.000000</td>\n",
       "      <td>177.000000</td>\n",
       "      <td>501.250000</td>\n",
       "      <td>1311.50000</td>\n",
       "      <td>96.500000</td>\n",
       "      <td>732.500000</td>\n",
       "      <td>679.250000</td>\n",
       "      <td>4.220000</td>\n",
       "      <td>5.750000</td>\n",
       "      <td>13.000000</td>\n",
       "      <td>46.750000</td>\n",
       "      <td>96.750000</td>\n",
       "    </tr>\n",
       "    <tr>\n",
       "      <th>max</th>\n",
       "      <td>100.000000</td>\n",
       "      <td>891.000000</td>\n",
       "      <td>5649.000000</td>\n",
       "      <td>1515.000000</td>\n",
       "      <td>308.000000</td>\n",
       "      <td>49.000000</td>\n",
       "      <td>232.000000</td>\n",
       "      <td>570.000000</td>\n",
       "      <td>1518.00000</td>\n",
       "      <td>134.000000</td>\n",
       "      <td>844.000000</td>\n",
       "      <td>799.000000</td>\n",
       "      <td>5.040000</td>\n",
       "      <td>11.000000</td>\n",
       "      <td>21.000000</td>\n",
       "      <td>62.000000</td>\n",
       "      <td>126.000000</td>\n",
       "    </tr>\n",
       "  </tbody>\n",
       "</table>\n",
       "</div>"
      ],
      "text/plain": [
       "                W           R           AB            H          2B  \\\n",
       "count   30.000000   30.000000    30.000000    30.000000   30.000000   \n",
       "mean    80.966667  688.233333  5516.266667  1403.533333  274.733333   \n",
       "std     10.453455   58.761754    70.467372    57.140923   18.095405   \n",
       "min     63.000000  573.000000  5385.000000  1324.000000  236.000000   \n",
       "25%     74.000000  651.250000  5464.000000  1363.000000  262.250000   \n",
       "50%     81.000000  689.000000  5510.000000  1382.500000  275.500000   \n",
       "75%     87.750000  718.250000  5570.000000  1451.500000  288.750000   \n",
       "max    100.000000  891.000000  5649.000000  1515.000000  308.000000   \n",
       "\n",
       "              3B          HR          BB          SO          SB          RA  \\\n",
       "count  30.000000   30.000000   30.000000    30.00000   30.000000   30.000000   \n",
       "mean   31.300000  163.633333  469.100000  1248.20000   83.500000  688.233333   \n",
       "std    10.452355   31.823309   57.053725   103.75947   22.815225   72.108005   \n",
       "min    13.000000  100.000000  375.000000   973.00000   44.000000  525.000000   \n",
       "25%    23.000000  140.250000  428.250000  1157.50000   69.000000  636.250000   \n",
       "50%    31.000000  158.500000  473.000000  1261.50000   83.500000  695.500000   \n",
       "75%    39.000000  177.000000  501.250000  1311.50000   96.500000  732.500000   \n",
       "max    49.000000  232.000000  570.000000  1518.00000  134.000000  844.000000   \n",
       "\n",
       "               ER        ERA         CG        SHO         SV           E  \n",
       "count   30.000000  30.000000  30.000000  30.000000  30.000000   30.000000  \n",
       "mean   635.833333   3.956333   3.466667  11.300000  43.066667   94.333333  \n",
       "std     70.140786   0.454089   2.763473   4.120177   7.869335   13.958889  \n",
       "min    478.000000   2.940000   0.000000   4.000000  28.000000   75.000000  \n",
       "25%    587.250000   3.682500   1.000000   9.000000  37.250000   86.000000  \n",
       "50%    644.500000   4.025000   3.000000  12.000000  42.000000   91.000000  \n",
       "75%    679.250000   4.220000   5.750000  13.000000  46.750000   96.750000  \n",
       "max    799.000000   5.040000  11.000000  21.000000  62.000000  126.000000  "
      ]
     },
     "execution_count": 236,
     "metadata": {},
     "output_type": "execute_result"
    }
   ],
   "source": [
    "df.describe()"
   ]
  },
  {
   "cell_type": "code",
   "execution_count": 237,
   "id": "1d1df11d",
   "metadata": {
    "scrolled": false
   },
   "outputs": [
    {
     "data": {
      "image/png": "[encoded data removed]",
      "text/plain": [
       "<Figure size 1080x864 with 2 Axes>"
      ]
     },
     "metadata": {
      "needs_background": "light"
     },
     "output_type": "display_data"
    }
   ],
   "source": [
    "plt.figure(figsize=(15,12))\n",
    "sns.heatmap(round(df.describe().transpose(),2),linewidth=2,annot=True,fmt='.2f')\n",
    "plt.xticks(fontsize=18)\n",
    "plt.yticks(fontsize=14)\n",
    "plt.title('Variable Summary')\n",
    "plt.show()"
   ]
  },
  {
   "cell_type": "markdown",
   "id": "500c2f32",
   "metadata": {},
   "source": [
    "### Obsevation:-\n",
    "For some features the standard deviation larger which will cause skewness, further we will check..."
   ]
  },
  {
   "cell_type": "code",
   "execution_count": 238,
   "id": "a60f1e72",
   "metadata": {},
   "outputs": [
    {
     "data": {
      "text/plain": [
       "<AxesSubplot:xlabel='W', ylabel='count'>"
      ]
     },
     "execution_count": 238,
     "metadata": {},
     "output_type": "execute_result"
    },
    {
     "data": {
      "image/png": "[encoded data removed]",
      "text/plain": [
       "<Figure size 432x288 with 1 Axes>"
      ]
     },
     "metadata": {
      "needs_background": "light"
     },
     "output_type": "display_data"
    }
   ],
   "source": [
    "sns.countplot('W',data=df)"
   ]
  },
  {
   "cell_type": "code",
   "execution_count": 239,
   "id": "c9c3c608",
   "metadata": {},
   "outputs": [
    {
     "data": {
      "text/plain": [
       "Index(['W', 'R', 'AB', 'H', '2B', '3B', 'HR', 'BB', 'SO', 'SB', 'RA', 'ER',\n",
       "       'ERA', 'CG', 'SHO', 'SV', 'E'],\n",
       "      dtype='object')"
      ]
     },
     "execution_count": 239,
     "metadata": {},
     "output_type": "execute_result"
    }
   ],
   "source": [
    "df.columns"
   ]
  },
  {
   "cell_type": "code",
   "execution_count": 240,
   "id": "26d66810",
   "metadata": {
    "scrolled": true
   },
   "outputs": [
    {
     "data": {
      "text/plain": [
       "<AxesSubplot:xlabel='R', ylabel='W'>"
      ]
     },
     "execution_count": 240,
     "metadata": {},
     "output_type": "execute_result"
    },
    {
     "data": {
      "image/png": "[encoded data removed]",
      "text/plain": [
       "<Figure size 1080x504 with 1 Axes>"
      ]
     },
     "metadata": {
      "needs_background": "light"
     },
     "output_type": "display_data"
    }
   ],
   "source": [
    "plt.figure(figsize=(15,7))\n",
    "sns.barplot(x='R',y='W',data=df)"
   ]
  },
  {
   "cell_type": "markdown",
   "id": "d88afbf1",
   "metadata": {},
   "source": [
    "# Observation:- The Run scored 647 and 697 and 724 has most wins. "
   ]
  },
  {
   "cell_type": "code",
   "execution_count": 241,
   "id": "1a8b738d",
   "metadata": {},
   "outputs": [
    {
     "data": {
      "text/plain": [
       "<AxesSubplot:xlabel='ERA', ylabel='W'>"
      ]
     },
     "execution_count": 241,
     "metadata": {},
     "output_type": "execute_result"
    },
    {
     "data": {
      "image/png": "[encoded data removed]",
      "text/plain": [
       "<Figure size 1080x504 with 1 Axes>"
      ]
     },
     "metadata": {
      "needs_background": "light"
     },
     "output_type": "display_data"
    }
   ],
   "source": [
    "plt.figure(figsize=(15,7))\n",
    "sns.barplot(x='ERA',y='W',data=df)"
   ]
  },
  {
   "cell_type": "markdown",
   "id": "34896020",
   "metadata": {},
   "source": [
    "# Observation:- Earned Run Average(ERA) with minimum point gives more wins (W)"
   ]
  },
  {
   "cell_type": "code",
   "execution_count": 242,
   "id": "81a0a6dd",
   "metadata": {},
   "outputs": [
    {
     "data": {
      "text/plain": [
       "<AxesSubplot:xlabel='HR', ylabel='W'>"
      ]
     },
     "execution_count": 242,
     "metadata": {},
     "output_type": "execute_result"
    },
    {
     "data": {
      "image/png": "[encoded data removed]",
      "text/plain": [
       "<Figure size 1080x504 with 1 Axes>"
      ]
     },
     "metadata": {
      "needs_background": "light"
     },
     "output_type": "display_data"
    }
   ],
   "source": [
    "plt.figure(figsize=(15,7))\n",
    "sns.barplot(x='HR',y='W',data=df)"
   ]
  },
  {
   "cell_type": "code",
   "execution_count": 243,
   "id": "65efcf83",
   "metadata": {},
   "outputs": [
    {
     "data": {
      "image/png": "[encoded data removed]",
      "text/plain": [
       "<Figure size 864x1080 with 17 Axes>"
      ]
     },
     "metadata": {},
     "output_type": "display_data"
    }
   ],
   "source": [
    "plt.figure(figsize=(12,15),facecolor='yellow')\n",
    "plotnumber=1\n",
    "\n",
    "for column in df:\n",
    "    if plotnumber <= 18:\n",
    "        ax=plt.subplot(4,5,plotnumber)\n",
    "        sns.scatterplot(df[column],y='W',data=df)\n",
    "        \n",
    "    plotnumber=plotnumber+1\n",
    "\n",
    "plt.tight_layout()\n"
   ]
  },
  {
   "cell_type": "markdown",
   "id": "ba1c2b66",
   "metadata": {},
   "source": [
    "# Observation:- R,SV show postive linear to Win wheres as RA,ERA ,ER is negative linear to Wins while others are scatter everywhere"
   ]
  },
  {
   "cell_type": "code",
   "execution_count": 244,
   "id": "c76ebd88",
   "metadata": {},
   "outputs": [
    {
     "data": {
      "image/png": "[encoded data removed]",
      "text/plain": [
       "<Figure size 864x1080 with 17 Axes>"
      ]
     },
     "metadata": {},
     "output_type": "display_data"
    }
   ],
   "source": [
    "plt.figure(figsize=(12,15),facecolor='lightgreen')\n",
    "plotnumber=1\n",
    "\n",
    "for column in df:\n",
    "    if plotnumber <= 18:\n",
    "        ax=plt.subplot(4,5,plotnumber)\n",
    "        sns.distplot(df[column])\n",
    "        \n",
    "    plotnumber=plotnumber+1\n",
    "\n",
    "plt.tight_layout()\n"
   ]
  },
  {
   "cell_type": "markdown",
   "id": "fc136649",
   "metadata": {},
   "source": [
    "# Observations:-\n",
    "\n",
    "SV is bimodal and skewed\n",
    "E is bimodal and skewed\n",
    "CG is skewed\n",
    "SHO is skewed\n",
    "SO,R is also skewed "
   ]
  },
  {
   "cell_type": "code",
   "execution_count": 245,
   "id": "4865b222",
   "metadata": {},
   "outputs": [
    {
     "data": {
      "image/png": "[encoded data removed]",
      "text/plain": [
       "<Figure size 2160x6480 with 17 Axes>"
      ]
     },
     "metadata": {
      "needs_background": "light"
     },
     "output_type": "display_data"
    }
   ],
   "source": [
    "## Lets check box plot\n",
    "collist=df.columns.values\n",
    "ncol=30\n",
    "nrows=18\n",
    "plt.figure(figsize=(ncol,3*ncol))\n",
    "for i in range(0,len(collist)):\n",
    "    plt.subplot(nrows,ncol,i+1)\n",
    "    sns.boxplot(data=df[collist[i]],color='green',orient='v')\n",
    "    plt.xlabel=(df[collist[i]])\n",
    "    plt.tight_layout()\n",
    "    "
   ]
  },
  {
   "cell_type": "markdown",
   "id": "4d1b6118",
   "metadata": {},
   "source": [
    "# Observation:- Error(E) having outlier, SV, SHO,CG and Run(R) having some outliers"
   ]
  },
  {
   "cell_type": "code",
   "execution_count": 246,
   "id": "e5dad5df",
   "metadata": {},
   "outputs": [
    {
     "data": {
      "text/plain": [
       "W      0.047089\n",
       "R      1.200786\n",
       "AB     0.183437\n",
       "H      0.670254\n",
       "2B    -0.230650\n",
       "3B     0.129502\n",
       "HR     0.516441\n",
       "BB     0.158498\n",
       "SO    -0.156065\n",
       "SB     0.479893\n",
       "RA     0.045734\n",
       "ER     0.058710\n",
       "ERA    0.053331\n",
       "CG     0.736845\n",
       "SHO    0.565790\n",
       "SV     0.657524\n",
       "E      0.890132\n",
       "dtype: float64"
      ]
     },
     "execution_count": 246,
     "metadata": {},
     "output_type": "execute_result"
    }
   ],
   "source": [
    "df.skew()"
   ]
  },
  {
   "cell_type": "code",
   "execution_count": 247,
   "id": "9f310b1b",
   "metadata": {},
   "outputs": [],
   "source": [
    "# Lets operate outlier and skewness\n"
   ]
  },
  {
   "cell_type": "code",
   "execution_count": 248,
   "id": "21f70caf",
   "metadata": {},
   "outputs": [],
   "source": [
    "## Operating Skewness and  ouliers through zscore\n",
    "\n",
    "\n",
    "from scipy.stats import zscore"
   ]
  },
  {
   "cell_type": "code",
   "execution_count": 249,
   "id": "075ab299",
   "metadata": {},
   "outputs": [],
   "source": [
    "df=df[np.abs(zscore(df)<3).all(axis=1)]"
   ]
  },
  {
   "cell_type": "code",
   "execution_count": 250,
   "id": "3b226a6c",
   "metadata": {},
   "outputs": [
    {
     "data": {
      "text/plain": [
       "(29, 17)"
      ]
     },
     "execution_count": 250,
     "metadata": {},
     "output_type": "execute_result"
    }
   ],
   "source": [
    "df.shape\n"
   ]
  },
  {
   "cell_type": "markdown",
   "id": "3974401c",
   "metadata": {},
   "source": [
    "# Data loss= 30-29=1\n"
   ]
  },
  {
   "cell_type": "code",
   "execution_count": 251,
   "id": "23a16f9d",
   "metadata": {},
   "outputs": [
    {
     "data": {
      "image/png": "[encoded data removed]",
      "text/plain": [
       "<Figure size 2160x6480 with 17 Axes>"
      ]
     },
     "metadata": {
      "needs_background": "light"
     },
     "output_type": "display_data"
    }
   ],
   "source": [
    "collist=df.columns.values\n",
    "ncol=30\n",
    "nrows=18\n",
    "plt.figure(figsize=(ncol,3*ncol))\n",
    "for i in range(0,len(collist)):\n",
    "    plt.subplot(nrows,ncol,i+1)\n",
    "    sns.boxplot(data=df[collist[i]],color='purple',orient='v')\n",
    "    plt.xlabel=(df[collist[i]])\n",
    "    plt.tight_layout()\n"
   ]
  },
  {
   "cell_type": "code",
   "execution_count": 252,
   "id": "77430298",
   "metadata": {},
   "outputs": [
    {
     "data": {
      "text/html": [
       "<div>\n",
       "<style scoped>\n",
       "    .dataframe tbody tr th:only-of-type {\n",
       "        vertical-align: middle;\n",
       "    }\n",
       "\n",
       "    .dataframe tbody tr th {\n",
       "        vertical-align: top;\n",
       "    }\n",
       "\n",
       "    .dataframe thead th {\n",
       "        text-align: right;\n",
       "    }\n",
       "</style>\n",
       "<table border=\"1\" class=\"dataframe\">\n",
       "  <thead>\n",
       "    <tr style=\"text-align: right;\">\n",
       "      <th></th>\n",
       "      <th>W</th>\n",
       "      <th>R</th>\n",
       "      <th>AB</th>\n",
       "      <th>H</th>\n",
       "      <th>2B</th>\n",
       "      <th>3B</th>\n",
       "      <th>HR</th>\n",
       "      <th>BB</th>\n",
       "      <th>SO</th>\n",
       "      <th>SB</th>\n",
       "      <th>RA</th>\n",
       "      <th>ER</th>\n",
       "      <th>ERA</th>\n",
       "      <th>CG</th>\n",
       "      <th>SHO</th>\n",
       "      <th>SV</th>\n",
       "      <th>E</th>\n",
       "    </tr>\n",
       "  </thead>\n",
       "  <tbody>\n",
       "    <tr>\n",
       "      <th>W</th>\n",
       "      <td>1.000000</td>\n",
       "      <td>0.390451</td>\n",
       "      <td>-0.085780</td>\n",
       "      <td>-0.018360</td>\n",
       "      <td>0.384886</td>\n",
       "      <td>-0.206737</td>\n",
       "      <td>0.245697</td>\n",
       "      <td>0.447513</td>\n",
       "      <td>0.156469</td>\n",
       "      <td>-0.169503</td>\n",
       "      <td>-0.823176</td>\n",
       "      <td>-0.815308</td>\n",
       "      <td>-0.826952</td>\n",
       "      <td>0.029594</td>\n",
       "      <td>0.497526</td>\n",
       "      <td>0.749290</td>\n",
       "      <td>-0.072858</td>\n",
       "    </tr>\n",
       "    <tr>\n",
       "      <th>R</th>\n",
       "      <td>0.390451</td>\n",
       "      <td>1.000000</td>\n",
       "      <td>0.438022</td>\n",
       "      <td>0.433525</td>\n",
       "      <td>0.469293</td>\n",
       "      <td>0.134204</td>\n",
       "      <td>0.586894</td>\n",
       "      <td>0.258450</td>\n",
       "      <td>0.081158</td>\n",
       "      <td>0.075323</td>\n",
       "      <td>-0.013858</td>\n",
       "      <td>0.007727</td>\n",
       "      <td>-0.009122</td>\n",
       "      <td>0.101438</td>\n",
       "      <td>-0.085108</td>\n",
       "      <td>0.061381</td>\n",
       "      <td>0.043123</td>\n",
       "    </tr>\n",
       "    <tr>\n",
       "      <th>AB</th>\n",
       "      <td>-0.085780</td>\n",
       "      <td>0.438022</td>\n",
       "      <td>1.000000</td>\n",
       "      <td>0.769159</td>\n",
       "      <td>0.490752</td>\n",
       "      <td>0.445604</td>\n",
       "      <td>-0.064653</td>\n",
       "      <td>-0.137850</td>\n",
       "      <td>-0.111243</td>\n",
       "      <td>0.373674</td>\n",
       "      <td>0.315499</td>\n",
       "      <td>0.309146</td>\n",
       "      <td>0.254872</td>\n",
       "      <td>-0.078511</td>\n",
       "      <td>-0.198872</td>\n",
       "      <td>-0.113342</td>\n",
       "      <td>0.316297</td>\n",
       "    </tr>\n",
       "    <tr>\n",
       "      <th>H</th>\n",
       "      <td>-0.018360</td>\n",
       "      <td>0.433525</td>\n",
       "      <td>0.769159</td>\n",
       "      <td>1.000000</td>\n",
       "      <td>0.528016</td>\n",
       "      <td>0.582024</td>\n",
       "      <td>-0.218711</td>\n",
       "      <td>-0.222271</td>\n",
       "      <td>-0.371861</td>\n",
       "      <td>0.417877</td>\n",
       "      <td>0.244606</td>\n",
       "      <td>0.280571</td>\n",
       "      <td>0.256458</td>\n",
       "      <td>0.092577</td>\n",
       "      <td>-0.135116</td>\n",
       "      <td>-0.079814</td>\n",
       "      <td>-0.011945</td>\n",
       "    </tr>\n",
       "    <tr>\n",
       "      <th>2B</th>\n",
       "      <td>0.384886</td>\n",
       "      <td>0.469293</td>\n",
       "      <td>0.490752</td>\n",
       "      <td>0.528016</td>\n",
       "      <td>1.000000</td>\n",
       "      <td>0.342419</td>\n",
       "      <td>-0.098695</td>\n",
       "      <td>0.211243</td>\n",
       "      <td>-0.096772</td>\n",
       "      <td>0.194308</td>\n",
       "      <td>-0.215196</td>\n",
       "      <td>-0.224993</td>\n",
       "      <td>-0.248212</td>\n",
       "      <td>0.244856</td>\n",
       "      <td>0.084060</td>\n",
       "      <td>0.269999</td>\n",
       "      <td>0.145032</td>\n",
       "    </tr>\n",
       "    <tr>\n",
       "      <th>3B</th>\n",
       "      <td>-0.206737</td>\n",
       "      <td>0.134204</td>\n",
       "      <td>0.445604</td>\n",
       "      <td>0.582024</td>\n",
       "      <td>0.342419</td>\n",
       "      <td>1.000000</td>\n",
       "      <td>-0.369299</td>\n",
       "      <td>-0.404852</td>\n",
       "      <td>-0.196586</td>\n",
       "      <td>0.483818</td>\n",
       "      <td>0.312750</td>\n",
       "      <td>0.333731</td>\n",
       "      <td>0.325883</td>\n",
       "      <td>-0.003733</td>\n",
       "      <td>-0.058896</td>\n",
       "      <td>-0.210627</td>\n",
       "      <td>0.108610</td>\n",
       "    </tr>\n",
       "    <tr>\n",
       "      <th>HR</th>\n",
       "      <td>0.245697</td>\n",
       "      <td>0.586894</td>\n",
       "      <td>-0.064653</td>\n",
       "      <td>-0.218711</td>\n",
       "      <td>-0.098695</td>\n",
       "      <td>-0.369299</td>\n",
       "      <td>1.000000</td>\n",
       "      <td>0.336814</td>\n",
       "      <td>0.479914</td>\n",
       "      <td>-0.166072</td>\n",
       "      <td>-0.092586</td>\n",
       "      <td>-0.062094</td>\n",
       "      <td>-0.070756</td>\n",
       "      <td>0.065978</td>\n",
       "      <td>0.005546</td>\n",
       "      <td>0.066984</td>\n",
       "      <td>-0.189790</td>\n",
       "    </tr>\n",
       "    <tr>\n",
       "      <th>BB</th>\n",
       "      <td>0.447513</td>\n",
       "      <td>0.258450</td>\n",
       "      <td>-0.137850</td>\n",
       "      <td>-0.222271</td>\n",
       "      <td>0.211243</td>\n",
       "      <td>-0.404852</td>\n",
       "      <td>0.336814</td>\n",
       "      <td>1.000000</td>\n",
       "      <td>0.315566</td>\n",
       "      <td>-0.117622</td>\n",
       "      <td>-0.425381</td>\n",
       "      <td>-0.455832</td>\n",
       "      <td>-0.465794</td>\n",
       "      <td>0.417437</td>\n",
       "      <td>0.473922</td>\n",
       "      <td>0.187101</td>\n",
       "      <td>-0.050114</td>\n",
       "    </tr>\n",
       "    <tr>\n",
       "      <th>SO</th>\n",
       "      <td>0.156469</td>\n",
       "      <td>0.081158</td>\n",
       "      <td>-0.111243</td>\n",
       "      <td>-0.371861</td>\n",
       "      <td>-0.096772</td>\n",
       "      <td>-0.196586</td>\n",
       "      <td>0.479914</td>\n",
       "      <td>0.315566</td>\n",
       "      <td>1.000000</td>\n",
       "      <td>0.038188</td>\n",
       "      <td>-0.140570</td>\n",
       "      <td>-0.177655</td>\n",
       "      <td>-0.195362</td>\n",
       "      <td>-0.053075</td>\n",
       "      <td>0.231230</td>\n",
       "      <td>0.091394</td>\n",
       "      <td>0.142740</td>\n",
       "    </tr>\n",
       "    <tr>\n",
       "      <th>SB</th>\n",
       "      <td>-0.169503</td>\n",
       "      <td>0.075323</td>\n",
       "      <td>0.373674</td>\n",
       "      <td>0.417877</td>\n",
       "      <td>0.194308</td>\n",
       "      <td>0.483818</td>\n",
       "      <td>-0.166072</td>\n",
       "      <td>-0.117622</td>\n",
       "      <td>0.038188</td>\n",
       "      <td>1.000000</td>\n",
       "      <td>0.134315</td>\n",
       "      <td>0.146243</td>\n",
       "      <td>0.128848</td>\n",
       "      <td>-0.030708</td>\n",
       "      <td>-0.104602</td>\n",
       "      <td>-0.179741</td>\n",
       "      <td>0.082702</td>\n",
       "    </tr>\n",
       "    <tr>\n",
       "      <th>RA</th>\n",
       "      <td>-0.823176</td>\n",
       "      <td>-0.013858</td>\n",
       "      <td>0.315499</td>\n",
       "      <td>0.244606</td>\n",
       "      <td>-0.215196</td>\n",
       "      <td>0.312750</td>\n",
       "      <td>-0.092586</td>\n",
       "      <td>-0.425381</td>\n",
       "      <td>-0.140570</td>\n",
       "      <td>0.134315</td>\n",
       "      <td>1.000000</td>\n",
       "      <td>0.991286</td>\n",
       "      <td>0.986781</td>\n",
       "      <td>-0.005288</td>\n",
       "      <td>-0.641579</td>\n",
       "      <td>-0.642734</td>\n",
       "      <td>0.195846</td>\n",
       "    </tr>\n",
       "    <tr>\n",
       "      <th>ER</th>\n",
       "      <td>-0.815308</td>\n",
       "      <td>0.007727</td>\n",
       "      <td>0.309146</td>\n",
       "      <td>0.280571</td>\n",
       "      <td>-0.224993</td>\n",
       "      <td>0.333731</td>\n",
       "      <td>-0.062094</td>\n",
       "      <td>-0.455832</td>\n",
       "      <td>-0.177655</td>\n",
       "      <td>0.146243</td>\n",
       "      <td>0.991286</td>\n",
       "      <td>1.000000</td>\n",
       "      <td>0.997261</td>\n",
       "      <td>-0.002865</td>\n",
       "      <td>-0.637293</td>\n",
       "      <td>-0.621875</td>\n",
       "      <td>0.131556</td>\n",
       "    </tr>\n",
       "    <tr>\n",
       "      <th>ERA</th>\n",
       "      <td>-0.826952</td>\n",
       "      <td>-0.009122</td>\n",
       "      <td>0.254872</td>\n",
       "      <td>0.256458</td>\n",
       "      <td>-0.248212</td>\n",
       "      <td>0.325883</td>\n",
       "      <td>-0.070756</td>\n",
       "      <td>-0.465794</td>\n",
       "      <td>-0.195362</td>\n",
       "      <td>0.128848</td>\n",
       "      <td>0.986781</td>\n",
       "      <td>0.997261</td>\n",
       "      <td>1.000000</td>\n",
       "      <td>0.006038</td>\n",
       "      <td>-0.637186</td>\n",
       "      <td>-0.637755</td>\n",
       "      <td>0.108191</td>\n",
       "    </tr>\n",
       "    <tr>\n",
       "      <th>CG</th>\n",
       "      <td>0.029594</td>\n",
       "      <td>0.101438</td>\n",
       "      <td>-0.078511</td>\n",
       "      <td>0.092577</td>\n",
       "      <td>0.244856</td>\n",
       "      <td>-0.003733</td>\n",
       "      <td>0.065978</td>\n",
       "      <td>0.417437</td>\n",
       "      <td>-0.053075</td>\n",
       "      <td>-0.030708</td>\n",
       "      <td>-0.005288</td>\n",
       "      <td>-0.002865</td>\n",
       "      <td>0.006038</td>\n",
       "      <td>1.000000</td>\n",
       "      <td>0.264346</td>\n",
       "      <td>-0.332806</td>\n",
       "      <td>-0.123447</td>\n",
       "    </tr>\n",
       "    <tr>\n",
       "      <th>SHO</th>\n",
       "      <td>0.497526</td>\n",
       "      <td>-0.085108</td>\n",
       "      <td>-0.198872</td>\n",
       "      <td>-0.135116</td>\n",
       "      <td>0.084060</td>\n",
       "      <td>-0.058896</td>\n",
       "      <td>0.005546</td>\n",
       "      <td>0.473922</td>\n",
       "      <td>0.231230</td>\n",
       "      <td>-0.104602</td>\n",
       "      <td>-0.641579</td>\n",
       "      <td>-0.637293</td>\n",
       "      <td>-0.637186</td>\n",
       "      <td>0.264346</td>\n",
       "      <td>1.000000</td>\n",
       "      <td>0.214175</td>\n",
       "      <td>-0.121484</td>\n",
       "    </tr>\n",
       "    <tr>\n",
       "      <th>SV</th>\n",
       "      <td>0.749290</td>\n",
       "      <td>0.061381</td>\n",
       "      <td>-0.113342</td>\n",
       "      <td>-0.079814</td>\n",
       "      <td>0.269999</td>\n",
       "      <td>-0.210627</td>\n",
       "      <td>0.066984</td>\n",
       "      <td>0.187101</td>\n",
       "      <td>0.091394</td>\n",
       "      <td>-0.179741</td>\n",
       "      <td>-0.642734</td>\n",
       "      <td>-0.621875</td>\n",
       "      <td>-0.637755</td>\n",
       "      <td>-0.332806</td>\n",
       "      <td>0.214175</td>\n",
       "      <td>1.000000</td>\n",
       "      <td>-0.045539</td>\n",
       "    </tr>\n",
       "    <tr>\n",
       "      <th>E</th>\n",
       "      <td>-0.072858</td>\n",
       "      <td>0.043123</td>\n",
       "      <td>0.316297</td>\n",
       "      <td>-0.011945</td>\n",
       "      <td>0.145032</td>\n",
       "      <td>0.108610</td>\n",
       "      <td>-0.189790</td>\n",
       "      <td>-0.050114</td>\n",
       "      <td>0.142740</td>\n",
       "      <td>0.082702</td>\n",
       "      <td>0.195846</td>\n",
       "      <td>0.131556</td>\n",
       "      <td>0.108191</td>\n",
       "      <td>-0.123447</td>\n",
       "      <td>-0.121484</td>\n",
       "      <td>-0.045539</td>\n",
       "      <td>1.000000</td>\n",
       "    </tr>\n",
       "  </tbody>\n",
       "</table>\n",
       "</div>"
      ],
      "text/plain": [
       "            W         R        AB         H        2B        3B        HR  \\\n",
       "W    1.000000  0.390451 -0.085780 -0.018360  0.384886 -0.206737  0.245697   \n",
       "R    0.390451  1.000000  0.438022  0.433525  0.469293  0.134204  0.586894   \n",
       "AB  -0.085780  0.438022  1.000000  0.769159  0.490752  0.445604 -0.064653   \n",
       "H   -0.018360  0.433525  0.769159  1.000000  0.528016  0.582024 -0.218711   \n",
       "2B   0.384886  0.469293  0.490752  0.528016  1.000000  0.342419 -0.098695   \n",
       "3B  -0.206737  0.134204  0.445604  0.582024  0.342419  1.000000 -0.369299   \n",
       "HR   0.245697  0.586894 -0.064653 -0.218711 -0.098695 -0.369299  1.000000   \n",
       "BB   0.447513  0.258450 -0.137850 -0.222271  0.211243 -0.404852  0.336814   \n",
       "SO   0.156469  0.081158 -0.111243 -0.371861 -0.096772 -0.196586  0.479914   \n",
       "SB  -0.169503  0.075323  0.373674  0.417877  0.194308  0.483818 -0.166072   \n",
       "RA  -0.823176 -0.013858  0.315499  0.244606 -0.215196  0.312750 -0.092586   \n",
       "ER  -0.815308  0.007727  0.309146  0.280571 -0.224993  0.333731 -0.062094   \n",
       "ERA -0.826952 -0.009122  0.254872  0.256458 -0.248212  0.325883 -0.070756   \n",
       "CG   0.029594  0.101438 -0.078511  0.092577  0.244856 -0.003733  0.065978   \n",
       "SHO  0.497526 -0.085108 -0.198872 -0.135116  0.084060 -0.058896  0.005546   \n",
       "SV   0.749290  0.061381 -0.113342 -0.079814  0.269999 -0.210627  0.066984   \n",
       "E   -0.072858  0.043123  0.316297 -0.011945  0.145032  0.108610 -0.189790   \n",
       "\n",
       "           BB        SO        SB        RA        ER       ERA        CG  \\\n",
       "W    0.447513  0.156469 -0.169503 -0.823176 -0.815308 -0.826952  0.029594   \n",
       "R    0.258450  0.081158  0.075323 -0.013858  0.007727 -0.009122  0.101438   \n",
       "AB  -0.137850 -0.111243  0.373674  0.315499  0.309146  0.254872 -0.078511   \n",
       "H   -0.222271 -0.371861  0.417877  0.244606  0.280571  0.256458  0.092577   \n",
       "2B   0.211243 -0.096772  0.194308 -0.215196 -0.224993 -0.248212  0.244856   \n",
       "3B  -0.404852 -0.196586  0.483818  0.312750  0.333731  0.325883 -0.003733   \n",
       "HR   0.336814  0.479914 -0.166072 -0.092586 -0.062094 -0.070756  0.065978   \n",
       "BB   1.000000  0.315566 -0.117622 -0.425381 -0.455832 -0.465794  0.417437   \n",
       "SO   0.315566  1.000000  0.038188 -0.140570 -0.177655 -0.195362 -0.053075   \n",
       "SB  -0.117622  0.038188  1.000000  0.134315  0.146243  0.128848 -0.030708   \n",
       "RA  -0.425381 -0.140570  0.134315  1.000000  0.991286  0.986781 -0.005288   \n",
       "ER  -0.455832 -0.177655  0.146243  0.991286  1.000000  0.997261 -0.002865   \n",
       "ERA -0.465794 -0.195362  0.128848  0.986781  0.997261  1.000000  0.006038   \n",
       "CG   0.417437 -0.053075 -0.030708 -0.005288 -0.002865  0.006038  1.000000   \n",
       "SHO  0.473922  0.231230 -0.104602 -0.641579 -0.637293 -0.637186  0.264346   \n",
       "SV   0.187101  0.091394 -0.179741 -0.642734 -0.621875 -0.637755 -0.332806   \n",
       "E   -0.050114  0.142740  0.082702  0.195846  0.131556  0.108191 -0.123447   \n",
       "\n",
       "          SHO        SV         E  \n",
       "W    0.497526  0.749290 -0.072858  \n",
       "R   -0.085108  0.061381  0.043123  \n",
       "AB  -0.198872 -0.113342  0.316297  \n",
       "H   -0.135116 -0.079814 -0.011945  \n",
       "2B   0.084060  0.269999  0.145032  \n",
       "3B  -0.058896 -0.210627  0.108610  \n",
       "HR   0.005546  0.066984 -0.189790  \n",
       "BB   0.473922  0.187101 -0.050114  \n",
       "SO   0.231230  0.091394  0.142740  \n",
       "SB  -0.104602 -0.179741  0.082702  \n",
       "RA  -0.641579 -0.642734  0.195846  \n",
       "ER  -0.637293 -0.621875  0.131556  \n",
       "ERA -0.637186 -0.637755  0.108191  \n",
       "CG   0.264346 -0.332806 -0.123447  \n",
       "SHO  1.000000  0.214175 -0.121484  \n",
       "SV   0.214175  1.000000 -0.045539  \n",
       "E   -0.121484 -0.045539  1.000000  "
      ]
     },
     "execution_count": 252,
     "metadata": {},
     "output_type": "execute_result"
    }
   ],
   "source": [
    "df.corr()"
   ]
  },
  {
   "cell_type": "code",
   "execution_count": 253,
   "id": "7dfd4019",
   "metadata": {},
   "outputs": [
    {
     "data": {
      "text/plain": [
       "<AxesSubplot:>"
      ]
     },
     "execution_count": 253,
     "metadata": {},
     "output_type": "execute_result"
    },
    {
     "data": {
      "image/png": "[encoded data removed]",
      "text/plain": [
       "<Figure size 1080x504 with 2 Axes>"
      ]
     },
     "metadata": {
      "needs_background": "light"
     },
     "output_type": "display_data"
    }
   ],
   "source": [
    "plt.figure(figsize=(15,7))\n",
    "sns.heatmap(df.corr(),annot=True,annot_kws={'size':10})"
   ]
  },
  {
   "cell_type": "markdown",
   "id": "806a9a7d",
   "metadata": {},
   "source": [
    "# Observation:- E,RA,ERA is observed to have multicolinearity problem"
   ]
  },
  {
   "cell_type": "code",
   "execution_count": 254,
   "id": "b717216c",
   "metadata": {
    "scrolled": false
   },
   "outputs": [],
   "source": [
    "from sklearn.preprocessing import StandardScaler"
   ]
  },
  {
   "cell_type": "code",
   "execution_count": 255,
   "id": "d9949766",
   "metadata": {},
   "outputs": [],
   "source": [
    "scaler=StandardScaler()"
   ]
  },
  {
   "cell_type": "code",
   "execution_count": 256,
   "id": "65f519b9",
   "metadata": {},
   "outputs": [],
   "source": [
    "X=df.drop(\"W\",axis=1)\n",
    "y=df.W\n",
    "    "
   ]
  },
  {
   "cell_type": "code",
   "execution_count": 257,
   "id": "53a42d6c",
   "metadata": {},
   "outputs": [],
   "source": [
    "x=scaler.fit_transform(X)"
   ]
  },
  {
   "cell_type": "code",
   "execution_count": 258,
   "id": "f1abec88",
   "metadata": {},
   "outputs": [
    {
     "data": {
      "text/plain": [
       "16"
      ]
     },
     "execution_count": 258,
     "metadata": {},
     "output_type": "execute_result"
    }
   ],
   "source": [
    "x.shape[1]"
   ]
  },
  {
   "cell_type": "code",
   "execution_count": 259,
   "id": "0f1249c9",
   "metadata": {},
   "outputs": [
    {
     "data": {
      "text/html": [
       "<div>\n",
       "<style scoped>\n",
       "    .dataframe tbody tr th:only-of-type {\n",
       "        vertical-align: middle;\n",
       "    }\n",
       "\n",
       "    .dataframe tbody tr th {\n",
       "        vertical-align: top;\n",
       "    }\n",
       "\n",
       "    .dataframe thead th {\n",
       "        text-align: right;\n",
       "    }\n",
       "</style>\n",
       "<table border=\"1\" class=\"dataframe\">\n",
       "  <thead>\n",
       "    <tr style=\"text-align: right;\">\n",
       "      <th></th>\n",
       "      <th>vif</th>\n",
       "      <th>feature</th>\n",
       "    </tr>\n",
       "  </thead>\n",
       "  <tbody>\n",
       "    <tr>\n",
       "      <th>0</th>\n",
       "      <td>7.229564</td>\n",
       "      <td>R</td>\n",
       "    </tr>\n",
       "    <tr>\n",
       "      <th>1</th>\n",
       "      <td>18.333377</td>\n",
       "      <td>AB</td>\n",
       "    </tr>\n",
       "    <tr>\n",
       "      <th>2</th>\n",
       "      <td>10.558458</td>\n",
       "      <td>H</td>\n",
       "    </tr>\n",
       "    <tr>\n",
       "      <th>3</th>\n",
       "      <td>3.743423</td>\n",
       "      <td>2B</td>\n",
       "    </tr>\n",
       "    <tr>\n",
       "      <th>4</th>\n",
       "      <td>3.278636</td>\n",
       "      <td>3B</td>\n",
       "    </tr>\n",
       "    <tr>\n",
       "      <th>5</th>\n",
       "      <td>8.426403</td>\n",
       "      <td>HR</td>\n",
       "    </tr>\n",
       "    <tr>\n",
       "      <th>6</th>\n",
       "      <td>3.431971</td>\n",
       "      <td>BB</td>\n",
       "    </tr>\n",
       "    <tr>\n",
       "      <th>7</th>\n",
       "      <td>2.720640</td>\n",
       "      <td>SO</td>\n",
       "    </tr>\n",
       "    <tr>\n",
       "      <th>8</th>\n",
       "      <td>2.110804</td>\n",
       "      <td>SB</td>\n",
       "    </tr>\n",
       "    <tr>\n",
       "      <th>9</th>\n",
       "      <td>197.315706</td>\n",
       "      <td>RA</td>\n",
       "    </tr>\n",
       "    <tr>\n",
       "      <th>10</th>\n",
       "      <td>1825.871631</td>\n",
       "      <td>ER</td>\n",
       "    </tr>\n",
       "    <tr>\n",
       "      <th>11</th>\n",
       "      <td>1438.816208</td>\n",
       "      <td>ERA</td>\n",
       "    </tr>\n",
       "    <tr>\n",
       "      <th>12</th>\n",
       "      <td>3.074115</td>\n",
       "      <td>CG</td>\n",
       "    </tr>\n",
       "    <tr>\n",
       "      <th>13</th>\n",
       "      <td>3.673885</td>\n",
       "      <td>SHO</td>\n",
       "    </tr>\n",
       "    <tr>\n",
       "      <th>14</th>\n",
       "      <td>6.236487</td>\n",
       "      <td>SV</td>\n",
       "    </tr>\n",
       "    <tr>\n",
       "      <th>15</th>\n",
       "      <td>2.180914</td>\n",
       "      <td>E</td>\n",
       "    </tr>\n",
       "  </tbody>\n",
       "</table>\n",
       "</div>"
      ],
      "text/plain": [
       "            vif feature\n",
       "0      7.229564       R\n",
       "1     18.333377      AB\n",
       "2     10.558458       H\n",
       "3      3.743423      2B\n",
       "4      3.278636      3B\n",
       "5      8.426403      HR\n",
       "6      3.431971      BB\n",
       "7      2.720640      SO\n",
       "8      2.110804      SB\n",
       "9    197.315706      RA\n",
       "10  1825.871631      ER\n",
       "11  1438.816208     ERA\n",
       "12     3.074115      CG\n",
       "13     3.673885     SHO\n",
       "14     6.236487      SV\n",
       "15     2.180914       E"
      ]
     },
     "execution_count": 259,
     "metadata": {},
     "output_type": "execute_result"
    }
   ],
   "source": [
    "\n",
    "from statsmodels.stats.outliers_influence import variance_inflation_factor\n",
    "vif=pd.DataFrame()\n",
    "vif[\"vif\"]=[variance_inflation_factor(x,i)\n",
    "           for i in range(x.shape[1])]\n",
    "vif[\"feature\"]=X.columns\n",
    "vif\n"
   ]
  },
  {
   "cell_type": "code",
   "execution_count": 260,
   "id": "fa46c0c2",
   "metadata": {},
   "outputs": [
    {
     "data": {
      "text/plain": [
       "<AxesSubplot:title={'center':'Correation with Win'}>"
      ]
     },
     "execution_count": 260,
     "metadata": {},
     "output_type": "execute_result"
    },
    {
     "data": {
      "image/png": "[encoded data removed]",
      "text/plain": [
       "<Figure size 720x504 with 1 Axes>"
      ]
     },
     "metadata": {
      "needs_background": "light"
     },
     "output_type": "display_data"
    }
   ],
   "source": [
    "## Plotting correaltion with target variable.\n",
    "X.corrwith(df.W).plot(kind='bar',grid=True,figsize=(10,7),title='Correation with Win')"
   ]
  },
  {
   "cell_type": "markdown",
   "id": "b6b165a7",
   "metadata": {},
   "source": [
    "## Since most of the features posses multicolinearity problem..Applying PCA can handle multicolinearity problem and dimension reduction"
   ]
  },
  {
   "cell_type": "code",
   "execution_count": 261,
   "id": "b2065dbd",
   "metadata": {},
   "outputs": [],
   "source": [
    "from sklearn.decomposition import PCA"
   ]
  },
  {
   "cell_type": "code",
   "execution_count": 262,
   "id": "ca602c8a",
   "metadata": {},
   "outputs": [],
   "source": [
    "pca=PCA()"
   ]
  },
  {
   "cell_type": "code",
   "execution_count": 263,
   "id": "8a9bb661",
   "metadata": {
    "scrolled": false
   },
   "outputs": [
    {
     "data": {
      "text/plain": [
       "array([[ 1.04041826e+00, -2.99848184e+00,  2.39063059e+00,\n",
       "        -7.82861328e-01, -2.44000230e+00, -7.69301307e-03,\n",
       "         6.40909629e-01,  3.39132156e-01,  8.37185019e-01,\n",
       "        -2.19622700e-02, -5.96073539e-01, -2.88473539e-01,\n",
       "        -1.48792637e-01,  1.84951137e-01, -7.39241199e-02,\n",
       "         9.49314166e-03],\n",
       "       [ 8.25018860e-02,  4.73553990e-01,  3.33380521e-01,\n",
       "        -1.82391989e-01, -3.20951442e-01,  4.67550521e-01,\n",
       "        -1.03905534e+00,  1.23183805e+00,  1.89277987e-01,\n",
       "        -6.77802968e-01,  6.14050340e-01, -2.11540195e-01,\n",
       "         1.97368606e-02,  4.91117648e-01,  5.20670442e-02,\n",
       "        -3.22283110e-02],\n",
       "       [-1.23470311e+00, -8.52540089e-01, -3.82592418e-02,\n",
       "         3.25226390e+00, -7.57128783e-01, -7.14970087e-01,\n",
       "         1.54910458e+00,  1.35171012e+00,  1.30465790e-01,\n",
       "         5.47695824e-01,  5.05777712e-01,  9.75146362e-02,\n",
       "         9.79152344e-02, -1.08509741e-01, -7.90998042e-03,\n",
       "         7.60535686e-04],\n",
       "       [ 6.80562041e-01,  1.42335306e+00,  8.04293280e-01,\n",
       "         9.94372765e-01,  3.58662324e-01, -9.45761872e-01,\n",
       "        -9.27755543e-03, -1.01724140e-01,  1.44915417e-01,\n",
       "         1.58164037e+00, -4.79498509e-01,  1.21200701e-01,\n",
       "         7.20541493e-01,  2.44641812e-01,  4.03927336e-03,\n",
       "        -1.23323946e-02],\n",
       "       [ 3.37579961e+00, -1.48366321e+00, -7.39327239e-01,\n",
       "         1.79314606e+00, -1.09331923e-01,  2.17560158e-01,\n",
       "        -1.12899533e+00,  2.93686500e-01, -1.21672499e+00,\n",
       "         1.40331672e-01, -8.74183626e-02,  1.71117880e-01,\n",
       "         2.62183004e-02, -2.84547308e-01, -9.47291385e-02,\n",
       "        -1.34887798e-02],\n",
       "       [-3.29445801e-01, -2.26393697e-01, -2.76248378e+00,\n",
       "        -1.30044976e+00, -1.69395049e+00, -1.05342025e+00,\n",
       "         1.05761700e+00, -4.26011310e-01, -7.75748111e-02,\n",
       "        -5.67318697e-01,  1.66481565e-01,  1.41719962e-01,\n",
       "         8.33282242e-01, -3.56635764e-03,  1.07150599e-01,\n",
       "        -6.71210070e-03],\n",
       "       [-7.08705186e-01,  2.23085715e+00, -1.60334974e+00,\n",
       "        -1.60101472e+00, -1.67636173e+00,  8.58409295e-01,\n",
       "        -1.23321964e+00, -5.57467961e-01,  1.06016001e-01,\n",
       "         5.58264878e-01,  1.23334377e-01,  2.25441999e-01,\n",
       "        -1.08652422e-03, -1.68636595e-03, -1.43395169e-02,\n",
       "         2.35417731e-02],\n",
       "       [-1.40280191e+00, -1.93915182e-02,  1.15538321e+00,\n",
       "        -1.54518343e+00,  5.15510472e-02,  4.32543193e-01,\n",
       "        -1.03195237e-02,  8.61288821e-01, -7.29310925e-01,\n",
       "        -7.34289930e-02, -8.47196604e-01, -4.35727530e-01,\n",
       "        -1.67265584e-01, -1.55419161e-01,  5.21226519e-02,\n",
       "         8.77874195e-03],\n",
       "       [ 2.14823157e+00, -1.99356680e+00, -9.23356028e-01,\n",
       "        -8.99017110e-02, -1.17109719e+00, -1.14385806e+00,\n",
       "        -3.87612775e-01, -8.41621569e-01, -3.34200480e-01,\n",
       "        -1.49300512e-01,  4.61295728e-01,  6.20810904e-02,\n",
       "        -3.29627160e-01,  1.78764015e-02, -4.37407823e-02,\n",
       "         7.27814059e-03],\n",
       "       [ 1.03672101e+00, -9.29020901e-01, -1.42591444e+00,\n",
       "        -3.35158518e-01,  6.22014262e-01, -1.03853378e+00,\n",
       "         7.93519585e-01,  3.38591244e-01,  8.41189202e-01,\n",
       "        -9.53542856e-01, -8.19649868e-01,  4.10281336e-01,\n",
       "        -3.49549505e-01,  1.41352263e-01, -7.41426373e-03,\n",
       "        -1.64454144e-02],\n",
       "       [-2.01050376e+00, -4.88124178e-01, -2.21000143e+00,\n",
       "         5.80465860e-02,  5.06380560e-01,  2.04946173e+00,\n",
       "         8.73773708e-01,  4.43561378e-01,  1.20712522e+00,\n",
       "         7.16526038e-01, -2.23653889e-02, -3.65844347e-01,\n",
       "        -4.65543063e-01, -1.75330419e-01, -3.99636746e-02,\n",
       "         1.12825843e-02],\n",
       "       [-1.15857351e+00,  2.72680025e+00,  3.86601971e-01,\n",
       "        -3.54926650e-01, -1.09748811e+00, -4.13346581e-01,\n",
       "        -4.70155590e-01, -4.42220833e-01,  8.52619816e-01,\n",
       "        -3.73020056e-01, -5.92747922e-01, -1.88999732e-01,\n",
       "        -5.41888906e-02,  4.45208154e-02, -3.80339659e-02,\n",
       "        -1.75120728e-02],\n",
       "       [-2.15858168e-01,  1.12445088e+00, -1.57094236e+00,\n",
       "         1.92392690e-01,  1.70819627e-01, -2.52035976e-01,\n",
       "        -2.28101153e-01, -2.54558263e-01, -9.14807942e-01,\n",
       "         5.93244185e-01, -9.84320618e-01, -5.83797983e-01,\n",
       "         2.79175162e-01, -2.71663599e-02, -2.39147404e-02,\n",
       "        -1.71067227e-02],\n",
       "       [ 1.86633155e+00, -9.23755041e-01,  8.85399724e-02,\n",
       "         1.23779719e+00,  1.51477474e+00, -1.64841225e+00,\n",
       "        -1.10399909e+00, -9.26405370e-01,  1.58762179e+00,\n",
       "        -4.54327382e-01,  4.43914134e-01, -6.45513212e-01,\n",
       "         3.65461449e-01, -1.64908798e-01, -1.97609243e-02,\n",
       "         2.34112711e-02],\n",
       "       [-3.92732317e+00, -1.57944416e+00,  2.46467526e+00,\n",
       "        -9.34438832e-01,  1.07906440e-01, -2.26545386e-01,\n",
       "        -3.45833123e-01,  6.84744242e-01, -3.43312482e-01,\n",
       "        -4.71073876e-01,  1.59163075e-01,  9.05079605e-02,\n",
       "         7.62372182e-01, -4.05078763e-01,  4.38795357e-02,\n",
       "         1.79237563e-02],\n",
       "       [-1.46346269e+00, -2.81030029e+00,  1.27948873e+00,\n",
       "        -2.23229905e+00,  1.29429436e+00, -8.73659490e-01,\n",
       "         2.86129314e-01, -9.63698307e-01, -6.98020964e-02,\n",
       "         7.84637423e-01, -1.70531329e-01,  4.63640100e-01,\n",
       "        -1.41249927e-01, -6.24042285e-02, -7.29924851e-02,\n",
       "        -2.05643390e-02],\n",
       "       [-3.58643147e+00, -7.90933245e-01, -1.14601807e+00,\n",
       "         4.43467206e-01,  3.02663261e+00,  2.42438355e-01,\n",
       "        -4.55315153e-01,  6.51169278e-02, -2.52444884e-01,\n",
       "        -3.39112801e-01, -4.66003889e-01,  2.64117979e-01,\n",
       "         3.35971260e-02,  4.15041030e-01,  4.97923830e-03,\n",
       "         3.03291370e-02],\n",
       "       [ 1.52665975e+00,  1.16481774e+00,  5.59543769e-01,\n",
       "        -1.13978983e+00,  1.12232528e+00, -6.96026987e-01,\n",
       "         9.28605879e-02,  7.67363937e-01,  3.56158780e-01,\n",
       "         1.74517840e-01,  2.42196737e-01,  2.48578196e-01,\n",
       "        -3.64642333e-01, -3.35799336e-01,  7.06736050e-02,\n",
       "        -1.69293287e-02],\n",
       "       [ 1.73460112e+00,  9.83394588e-01, -4.49394235e-01,\n",
       "         5.09489325e-02,  9.74079346e-01,  1.29130267e+00,\n",
       "         1.89853848e+00, -1.15850208e+00, -4.04471349e-01,\n",
       "        -2.31797387e-01,  2.54705884e-01, -6.91824002e-01,\n",
       "         2.18257357e-01, -9.48031488e-03,  3.16539252e-02,\n",
       "        -1.27772696e-03],\n",
       "       [-2.86277303e+00, -2.66833577e-01, -1.15363598e-01,\n",
       "        -9.98760519e-01, -7.58719485e-01, -7.88495991e-01,\n",
       "        -3.12932392e-01, -1.01422068e-01, -5.86978339e-01,\n",
       "         6.52158916e-01,  1.00388175e+00, -6.88958262e-01,\n",
       "        -5.27802221e-01,  1.22281352e-01,  1.64852668e-02,\n",
       "         6.42990075e-03],\n",
       "       [-2.73351856e+00,  1.14371344e+00, -1.40865996e+00,\n",
       "         3.19035539e-01, -1.93229931e-01, -4.56723775e-01,\n",
       "         1.90837340e-01, -4.09751924e-01,  4.03104609e-02,\n",
       "         1.15437912e-01,  5.21053066e-01,  9.29551108e-01,\n",
       "        -3.48418895e-01, -9.66161628e-02,  1.24620216e-02,\n",
       "        -2.02906726e-03],\n",
       "       [ 1.24667521e+00,  1.75743057e+00,  2.84835872e+00,\n",
       "         5.09516348e-01, -1.34854260e-01,  2.32948839e+00,\n",
       "        -3.09597153e-02, -1.06652282e+00,  7.27950919e-01,\n",
       "        -1.72664219e-02,  9.91518056e-02,  5.09346053e-01,\n",
       "         1.20304062e-01, -1.37147658e-01,  3.78922348e-02,\n",
       "        -7.11143957e-03],\n",
       "       [ 6.67470045e-01,  3.29398922e+00,  2.08557920e+00,\n",
       "         1.14573350e+00, -3.98047897e-01, -1.12451093e+00,\n",
       "         9.59217048e-01, -4.75777278e-01, -1.15235332e+00,\n",
       "        -7.51299167e-01, -2.42663854e-01,  1.52603336e-01,\n",
       "        -4.73241529e-01,  1.01923061e-01, -3.32542945e-02,\n",
       "         3.30325307e-02],\n",
       "       [ 3.35193150e+00,  1.69864905e+00,  8.29539775e-01,\n",
       "        -7.49185838e-01,  1.53030953e+00, -8.02693116e-01,\n",
       "        -1.13333438e-01,  4.86559087e-01, -1.24059111e-01,\n",
       "         2.20414008e-01,  3.56352665e-01, -2.86793696e-01,\n",
       "        -4.35598810e-01, -6.60845098e-02,  6.91464565e-02,\n",
       "        -1.05782000e-02],\n",
       "       [-4.10616258e+00,  7.94825004e-01, -5.13444387e-01,\n",
       "         1.91831133e+00, -4.71052104e-01,  5.63412149e-01,\n",
       "        -7.66894294e-01, -1.21284370e-01, -4.86569557e-02,\n",
       "        -9.37810455e-01, -2.10152744e-01, -2.11687492e-01,\n",
       "        -1.28054510e-01, -2.74221455e-01, -5.08837716e-02,\n",
       "        -2.64375560e-02],\n",
       "       [-2.79147122e-01, -2.34889445e+00,  9.77557200e-01,\n",
       "         2.17075583e+00, -6.69259242e-01,  6.41427040e-01,\n",
       "        -6.31011456e-01, -5.53100986e-01, -7.09112473e-03,\n",
       "         4.92645456e-01, -1.95374785e-01,  1.45020041e-01,\n",
       "        -2.48441322e-01,  2.86280420e-01,  1.64028506e-01,\n",
       "         3.81161056e-03],\n",
       "       [ 1.67704938e+00, -2.96130770e+00, -4.83432683e-02,\n",
       "        -5.19355869e-01,  5.95880392e-01,  1.80732594e+00,\n",
       "         2.53417481e-01, -4.85646192e-01, -8.62574493e-01,\n",
       "        -5.68659833e-01,  4.93291099e-01,  5.33973487e-02,\n",
       "         1.27581212e-01,  1.15439297e-01, -3.25000717e-02,\n",
       "        -1.46444861e-02],\n",
       "       [ 6.38890911e-01,  2.09643042e+00,  5.09191061e-01,\n",
       "        -8.53053011e-01,  4.44934252e-01,  5.29547650e-01,\n",
       "         2.05373967e-01,  1.02322029e+00,  8.08079116e-02,\n",
       "         4.97382118e-03,  7.39949958e-01,  2.14121466e-01,\n",
       "         5.20147487e-01,  2.73062099e-01, -1.58681911e-01,\n",
       "         7.96174905e-03],\n",
       "       [ 4.94556622e+00, -2.39614666e-01, -1.75790548e+00,\n",
       "        -4.67016809e-01, -4.29089876e-01,  7.56220458e-01,\n",
       "        -5.34283155e-01,  9.98902726e-01,  2.27189877e-02,\n",
       "         5.23533109e-03, -4.70602489e-01,  2.98918798e-01,\n",
       "         5.89127459e-02, -1.30520397e-01,  4.54632827e-02,\n",
       "         3.13630669e-02]])"
      ]
     },
     "execution_count": 263,
     "metadata": {},
     "output_type": "execute_result"
    }
   ],
   "source": [
    "pca.fit_transform(x)"
   ]
  },
  {
   "cell_type": "code",
   "execution_count": 264,
   "id": "577a9bef",
   "metadata": {},
   "outputs": [
    {
     "data": {
      "image/png": "[encoded data removed]",
      "text/plain": [
       "<Figure size 432x288 with 1 Axes>"
      ]
     },
     "metadata": {
      "needs_background": "light"
     },
     "output_type": "display_data"
    }
   ],
   "source": [
    "plt.figure()\n",
    "plt.plot(np.cumsum(pca.explained_variance_ratio_))\n",
    "\n",
    "plt.ylabel('Varience Covered')\n",
    "plt.title('PCA')\n",
    "plt.show()"
   ]
  },
  {
   "cell_type": "markdown",
   "id": "6319c112",
   "metadata": {},
   "source": [
    "# Observation:- We can take principal component = 13 which covers maximum variance"
   ]
  },
  {
   "cell_type": "code",
   "execution_count": 265,
   "id": "33f6482b",
   "metadata": {},
   "outputs": [],
   "source": [
    "pca=PCA(n_components=13)\n",
    "new_pcomp=pca.fit_transform(x)\n",
    "p_c=pd.DataFrame(new_pcomp,columns=['PC1','PC2','PC3','PC4','PC5','PC6','PC7','PC8','PC9','PC10','PC11','PC12','PC13'])\n"
   ]
  },
  {
   "cell_type": "code",
   "execution_count": 266,
   "id": "b43ab222",
   "metadata": {},
   "outputs": [
    {
     "data": {
      "text/html": [
       "<div>\n",
       "<style scoped>\n",
       "    .dataframe tbody tr th:only-of-type {\n",
       "        vertical-align: middle;\n",
       "    }\n",
       "\n",
       "    .dataframe tbody tr th {\n",
       "        vertical-align: top;\n",
       "    }\n",
       "\n",
       "    .dataframe thead th {\n",
       "        text-align: right;\n",
       "    }\n",
       "</style>\n",
       "<table border=\"1\" class=\"dataframe\">\n",
       "  <thead>\n",
       "    <tr style=\"text-align: right;\">\n",
       "      <th></th>\n",
       "      <th>PC1</th>\n",
       "      <th>PC2</th>\n",
       "      <th>PC3</th>\n",
       "      <th>PC4</th>\n",
       "      <th>PC5</th>\n",
       "      <th>PC6</th>\n",
       "      <th>PC7</th>\n",
       "      <th>PC8</th>\n",
       "      <th>PC9</th>\n",
       "      <th>PC10</th>\n",
       "      <th>PC11</th>\n",
       "      <th>PC12</th>\n",
       "      <th>PC13</th>\n",
       "    </tr>\n",
       "  </thead>\n",
       "  <tbody>\n",
       "    <tr>\n",
       "      <th>0</th>\n",
       "      <td>1.040418</td>\n",
       "      <td>-2.998482</td>\n",
       "      <td>2.390631</td>\n",
       "      <td>-0.782861</td>\n",
       "      <td>-2.440002</td>\n",
       "      <td>-0.007693</td>\n",
       "      <td>0.640910</td>\n",
       "      <td>0.339132</td>\n",
       "      <td>0.837185</td>\n",
       "      <td>-0.021962</td>\n",
       "      <td>-0.596074</td>\n",
       "      <td>-0.288474</td>\n",
       "      <td>-0.148793</td>\n",
       "    </tr>\n",
       "    <tr>\n",
       "      <th>1</th>\n",
       "      <td>0.082502</td>\n",
       "      <td>0.473554</td>\n",
       "      <td>0.333381</td>\n",
       "      <td>-0.182392</td>\n",
       "      <td>-0.320951</td>\n",
       "      <td>0.467551</td>\n",
       "      <td>-1.039055</td>\n",
       "      <td>1.231838</td>\n",
       "      <td>0.189278</td>\n",
       "      <td>-0.677803</td>\n",
       "      <td>0.614050</td>\n",
       "      <td>-0.211540</td>\n",
       "      <td>0.019737</td>\n",
       "    </tr>\n",
       "    <tr>\n",
       "      <th>2</th>\n",
       "      <td>-1.234703</td>\n",
       "      <td>-0.852540</td>\n",
       "      <td>-0.038259</td>\n",
       "      <td>3.252264</td>\n",
       "      <td>-0.757129</td>\n",
       "      <td>-0.714970</td>\n",
       "      <td>1.549105</td>\n",
       "      <td>1.351710</td>\n",
       "      <td>0.130466</td>\n",
       "      <td>0.547696</td>\n",
       "      <td>0.505778</td>\n",
       "      <td>0.097515</td>\n",
       "      <td>0.097915</td>\n",
       "    </tr>\n",
       "    <tr>\n",
       "      <th>3</th>\n",
       "      <td>0.680562</td>\n",
       "      <td>1.423353</td>\n",
       "      <td>0.804293</td>\n",
       "      <td>0.994373</td>\n",
       "      <td>0.358662</td>\n",
       "      <td>-0.945762</td>\n",
       "      <td>-0.009278</td>\n",
       "      <td>-0.101724</td>\n",
       "      <td>0.144915</td>\n",
       "      <td>1.581640</td>\n",
       "      <td>-0.479499</td>\n",
       "      <td>0.121201</td>\n",
       "      <td>0.720541</td>\n",
       "    </tr>\n",
       "    <tr>\n",
       "      <th>4</th>\n",
       "      <td>3.375800</td>\n",
       "      <td>-1.483663</td>\n",
       "      <td>-0.739327</td>\n",
       "      <td>1.793146</td>\n",
       "      <td>-0.109332</td>\n",
       "      <td>0.217560</td>\n",
       "      <td>-1.128995</td>\n",
       "      <td>0.293687</td>\n",
       "      <td>-1.216725</td>\n",
       "      <td>0.140332</td>\n",
       "      <td>-0.087418</td>\n",
       "      <td>0.171118</td>\n",
       "      <td>0.026218</td>\n",
       "    </tr>\n",
       "    <tr>\n",
       "      <th>5</th>\n",
       "      <td>-0.329446</td>\n",
       "      <td>-0.226394</td>\n",
       "      <td>-2.762484</td>\n",
       "      <td>-1.300450</td>\n",
       "      <td>-1.693950</td>\n",
       "      <td>-1.053420</td>\n",
       "      <td>1.057617</td>\n",
       "      <td>-0.426011</td>\n",
       "      <td>-0.077575</td>\n",
       "      <td>-0.567319</td>\n",
       "      <td>0.166482</td>\n",
       "      <td>0.141720</td>\n",
       "      <td>0.833282</td>\n",
       "    </tr>\n",
       "    <tr>\n",
       "      <th>6</th>\n",
       "      <td>-0.708705</td>\n",
       "      <td>2.230857</td>\n",
       "      <td>-1.603350</td>\n",
       "      <td>-1.601015</td>\n",
       "      <td>-1.676362</td>\n",
       "      <td>0.858409</td>\n",
       "      <td>-1.233220</td>\n",
       "      <td>-0.557468</td>\n",
       "      <td>0.106016</td>\n",
       "      <td>0.558265</td>\n",
       "      <td>0.123334</td>\n",
       "      <td>0.225442</td>\n",
       "      <td>-0.001087</td>\n",
       "    </tr>\n",
       "    <tr>\n",
       "      <th>7</th>\n",
       "      <td>-1.402802</td>\n",
       "      <td>-0.019392</td>\n",
       "      <td>1.155383</td>\n",
       "      <td>-1.545183</td>\n",
       "      <td>0.051551</td>\n",
       "      <td>0.432543</td>\n",
       "      <td>-0.010320</td>\n",
       "      <td>0.861289</td>\n",
       "      <td>-0.729311</td>\n",
       "      <td>-0.073429</td>\n",
       "      <td>-0.847197</td>\n",
       "      <td>-0.435728</td>\n",
       "      <td>-0.167266</td>\n",
       "    </tr>\n",
       "    <tr>\n",
       "      <th>8</th>\n",
       "      <td>2.148232</td>\n",
       "      <td>-1.993567</td>\n",
       "      <td>-0.923356</td>\n",
       "      <td>-0.089902</td>\n",
       "      <td>-1.171097</td>\n",
       "      <td>-1.143858</td>\n",
       "      <td>-0.387613</td>\n",
       "      <td>-0.841622</td>\n",
       "      <td>-0.334200</td>\n",
       "      <td>-0.149301</td>\n",
       "      <td>0.461296</td>\n",
       "      <td>0.062081</td>\n",
       "      <td>-0.329627</td>\n",
       "    </tr>\n",
       "    <tr>\n",
       "      <th>9</th>\n",
       "      <td>1.036721</td>\n",
       "      <td>-0.929021</td>\n",
       "      <td>-1.425914</td>\n",
       "      <td>-0.335159</td>\n",
       "      <td>0.622014</td>\n",
       "      <td>-1.038534</td>\n",
       "      <td>0.793520</td>\n",
       "      <td>0.338591</td>\n",
       "      <td>0.841189</td>\n",
       "      <td>-0.953543</td>\n",
       "      <td>-0.819650</td>\n",
       "      <td>0.410281</td>\n",
       "      <td>-0.349550</td>\n",
       "    </tr>\n",
       "    <tr>\n",
       "      <th>10</th>\n",
       "      <td>-2.010504</td>\n",
       "      <td>-0.488124</td>\n",
       "      <td>-2.210001</td>\n",
       "      <td>0.058047</td>\n",
       "      <td>0.506381</td>\n",
       "      <td>2.049462</td>\n",
       "      <td>0.873774</td>\n",
       "      <td>0.443561</td>\n",
       "      <td>1.207125</td>\n",
       "      <td>0.716526</td>\n",
       "      <td>-0.022365</td>\n",
       "      <td>-0.365844</td>\n",
       "      <td>-0.465543</td>\n",
       "    </tr>\n",
       "    <tr>\n",
       "      <th>11</th>\n",
       "      <td>-1.158574</td>\n",
       "      <td>2.726800</td>\n",
       "      <td>0.386602</td>\n",
       "      <td>-0.354927</td>\n",
       "      <td>-1.097488</td>\n",
       "      <td>-0.413347</td>\n",
       "      <td>-0.470156</td>\n",
       "      <td>-0.442221</td>\n",
       "      <td>0.852620</td>\n",
       "      <td>-0.373020</td>\n",
       "      <td>-0.592748</td>\n",
       "      <td>-0.189000</td>\n",
       "      <td>-0.054189</td>\n",
       "    </tr>\n",
       "    <tr>\n",
       "      <th>12</th>\n",
       "      <td>-0.215858</td>\n",
       "      <td>1.124451</td>\n",
       "      <td>-1.570942</td>\n",
       "      <td>0.192393</td>\n",
       "      <td>0.170820</td>\n",
       "      <td>-0.252036</td>\n",
       "      <td>-0.228101</td>\n",
       "      <td>-0.254558</td>\n",
       "      <td>-0.914808</td>\n",
       "      <td>0.593244</td>\n",
       "      <td>-0.984321</td>\n",
       "      <td>-0.583798</td>\n",
       "      <td>0.279175</td>\n",
       "    </tr>\n",
       "    <tr>\n",
       "      <th>13</th>\n",
       "      <td>1.866332</td>\n",
       "      <td>-0.923755</td>\n",
       "      <td>0.088540</td>\n",
       "      <td>1.237797</td>\n",
       "      <td>1.514775</td>\n",
       "      <td>-1.648412</td>\n",
       "      <td>-1.103999</td>\n",
       "      <td>-0.926405</td>\n",
       "      <td>1.587622</td>\n",
       "      <td>-0.454327</td>\n",
       "      <td>0.443914</td>\n",
       "      <td>-0.645513</td>\n",
       "      <td>0.365461</td>\n",
       "    </tr>\n",
       "    <tr>\n",
       "      <th>14</th>\n",
       "      <td>-3.927323</td>\n",
       "      <td>-1.579444</td>\n",
       "      <td>2.464675</td>\n",
       "      <td>-0.934439</td>\n",
       "      <td>0.107906</td>\n",
       "      <td>-0.226545</td>\n",
       "      <td>-0.345833</td>\n",
       "      <td>0.684744</td>\n",
       "      <td>-0.343312</td>\n",
       "      <td>-0.471074</td>\n",
       "      <td>0.159163</td>\n",
       "      <td>0.090508</td>\n",
       "      <td>0.762372</td>\n",
       "    </tr>\n",
       "    <tr>\n",
       "      <th>15</th>\n",
       "      <td>-1.463463</td>\n",
       "      <td>-2.810300</td>\n",
       "      <td>1.279489</td>\n",
       "      <td>-2.232299</td>\n",
       "      <td>1.294294</td>\n",
       "      <td>-0.873659</td>\n",
       "      <td>0.286129</td>\n",
       "      <td>-0.963698</td>\n",
       "      <td>-0.069802</td>\n",
       "      <td>0.784637</td>\n",
       "      <td>-0.170531</td>\n",
       "      <td>0.463640</td>\n",
       "      <td>-0.141250</td>\n",
       "    </tr>\n",
       "    <tr>\n",
       "      <th>16</th>\n",
       "      <td>-3.586431</td>\n",
       "      <td>-0.790933</td>\n",
       "      <td>-1.146018</td>\n",
       "      <td>0.443467</td>\n",
       "      <td>3.026633</td>\n",
       "      <td>0.242438</td>\n",
       "      <td>-0.455315</td>\n",
       "      <td>0.065117</td>\n",
       "      <td>-0.252445</td>\n",
       "      <td>-0.339113</td>\n",
       "      <td>-0.466004</td>\n",
       "      <td>0.264118</td>\n",
       "      <td>0.033597</td>\n",
       "    </tr>\n",
       "    <tr>\n",
       "      <th>17</th>\n",
       "      <td>1.526660</td>\n",
       "      <td>1.164818</td>\n",
       "      <td>0.559544</td>\n",
       "      <td>-1.139790</td>\n",
       "      <td>1.122325</td>\n",
       "      <td>-0.696027</td>\n",
       "      <td>0.092861</td>\n",
       "      <td>0.767364</td>\n",
       "      <td>0.356159</td>\n",
       "      <td>0.174518</td>\n",
       "      <td>0.242197</td>\n",
       "      <td>0.248578</td>\n",
       "      <td>-0.364642</td>\n",
       "    </tr>\n",
       "    <tr>\n",
       "      <th>18</th>\n",
       "      <td>1.734601</td>\n",
       "      <td>0.983395</td>\n",
       "      <td>-0.449394</td>\n",
       "      <td>0.050949</td>\n",
       "      <td>0.974079</td>\n",
       "      <td>1.291303</td>\n",
       "      <td>1.898538</td>\n",
       "      <td>-1.158502</td>\n",
       "      <td>-0.404471</td>\n",
       "      <td>-0.231797</td>\n",
       "      <td>0.254706</td>\n",
       "      <td>-0.691824</td>\n",
       "      <td>0.218257</td>\n",
       "    </tr>\n",
       "    <tr>\n",
       "      <th>19</th>\n",
       "      <td>-2.862773</td>\n",
       "      <td>-0.266834</td>\n",
       "      <td>-0.115364</td>\n",
       "      <td>-0.998761</td>\n",
       "      <td>-0.758719</td>\n",
       "      <td>-0.788496</td>\n",
       "      <td>-0.312932</td>\n",
       "      <td>-0.101422</td>\n",
       "      <td>-0.586978</td>\n",
       "      <td>0.652159</td>\n",
       "      <td>1.003882</td>\n",
       "      <td>-0.688958</td>\n",
       "      <td>-0.527802</td>\n",
       "    </tr>\n",
       "    <tr>\n",
       "      <th>20</th>\n",
       "      <td>-2.733519</td>\n",
       "      <td>1.143713</td>\n",
       "      <td>-1.408660</td>\n",
       "      <td>0.319036</td>\n",
       "      <td>-0.193230</td>\n",
       "      <td>-0.456724</td>\n",
       "      <td>0.190837</td>\n",
       "      <td>-0.409752</td>\n",
       "      <td>0.040310</td>\n",
       "      <td>0.115438</td>\n",
       "      <td>0.521053</td>\n",
       "      <td>0.929551</td>\n",
       "      <td>-0.348419</td>\n",
       "    </tr>\n",
       "    <tr>\n",
       "      <th>21</th>\n",
       "      <td>1.246675</td>\n",
       "      <td>1.757431</td>\n",
       "      <td>2.848359</td>\n",
       "      <td>0.509516</td>\n",
       "      <td>-0.134854</td>\n",
       "      <td>2.329488</td>\n",
       "      <td>-0.030960</td>\n",
       "      <td>-1.066523</td>\n",
       "      <td>0.727951</td>\n",
       "      <td>-0.017266</td>\n",
       "      <td>0.099152</td>\n",
       "      <td>0.509346</td>\n",
       "      <td>0.120304</td>\n",
       "    </tr>\n",
       "    <tr>\n",
       "      <th>22</th>\n",
       "      <td>0.667470</td>\n",
       "      <td>3.293989</td>\n",
       "      <td>2.085579</td>\n",
       "      <td>1.145734</td>\n",
       "      <td>-0.398048</td>\n",
       "      <td>-1.124511</td>\n",
       "      <td>0.959217</td>\n",
       "      <td>-0.475777</td>\n",
       "      <td>-1.152353</td>\n",
       "      <td>-0.751299</td>\n",
       "      <td>-0.242664</td>\n",
       "      <td>0.152603</td>\n",
       "      <td>-0.473242</td>\n",
       "    </tr>\n",
       "    <tr>\n",
       "      <th>23</th>\n",
       "      <td>3.351932</td>\n",
       "      <td>1.698649</td>\n",
       "      <td>0.829540</td>\n",
       "      <td>-0.749186</td>\n",
       "      <td>1.530310</td>\n",
       "      <td>-0.802693</td>\n",
       "      <td>-0.113333</td>\n",
       "      <td>0.486559</td>\n",
       "      <td>-0.124059</td>\n",
       "      <td>0.220414</td>\n",
       "      <td>0.356353</td>\n",
       "      <td>-0.286794</td>\n",
       "      <td>-0.435599</td>\n",
       "    </tr>\n",
       "    <tr>\n",
       "      <th>24</th>\n",
       "      <td>-4.106163</td>\n",
       "      <td>0.794825</td>\n",
       "      <td>-0.513444</td>\n",
       "      <td>1.918311</td>\n",
       "      <td>-0.471052</td>\n",
       "      <td>0.563412</td>\n",
       "      <td>-0.766894</td>\n",
       "      <td>-0.121284</td>\n",
       "      <td>-0.048657</td>\n",
       "      <td>-0.937810</td>\n",
       "      <td>-0.210153</td>\n",
       "      <td>-0.211687</td>\n",
       "      <td>-0.128055</td>\n",
       "    </tr>\n",
       "    <tr>\n",
       "      <th>25</th>\n",
       "      <td>-0.279147</td>\n",
       "      <td>-2.348894</td>\n",
       "      <td>0.977557</td>\n",
       "      <td>2.170756</td>\n",
       "      <td>-0.669259</td>\n",
       "      <td>0.641427</td>\n",
       "      <td>-0.631011</td>\n",
       "      <td>-0.553101</td>\n",
       "      <td>-0.007091</td>\n",
       "      <td>0.492645</td>\n",
       "      <td>-0.195375</td>\n",
       "      <td>0.145020</td>\n",
       "      <td>-0.248441</td>\n",
       "    </tr>\n",
       "    <tr>\n",
       "      <th>26</th>\n",
       "      <td>1.677049</td>\n",
       "      <td>-2.961308</td>\n",
       "      <td>-0.048343</td>\n",
       "      <td>-0.519356</td>\n",
       "      <td>0.595880</td>\n",
       "      <td>1.807326</td>\n",
       "      <td>0.253417</td>\n",
       "      <td>-0.485646</td>\n",
       "      <td>-0.862574</td>\n",
       "      <td>-0.568660</td>\n",
       "      <td>0.493291</td>\n",
       "      <td>0.053397</td>\n",
       "      <td>0.127581</td>\n",
       "    </tr>\n",
       "    <tr>\n",
       "      <th>27</th>\n",
       "      <td>0.638891</td>\n",
       "      <td>2.096430</td>\n",
       "      <td>0.509191</td>\n",
       "      <td>-0.853053</td>\n",
       "      <td>0.444934</td>\n",
       "      <td>0.529548</td>\n",
       "      <td>0.205374</td>\n",
       "      <td>1.023220</td>\n",
       "      <td>0.080808</td>\n",
       "      <td>0.004974</td>\n",
       "      <td>0.739950</td>\n",
       "      <td>0.214121</td>\n",
       "      <td>0.520147</td>\n",
       "    </tr>\n",
       "    <tr>\n",
       "      <th>28</th>\n",
       "      <td>4.945566</td>\n",
       "      <td>-0.239615</td>\n",
       "      <td>-1.757905</td>\n",
       "      <td>-0.467017</td>\n",
       "      <td>-0.429090</td>\n",
       "      <td>0.756220</td>\n",
       "      <td>-0.534283</td>\n",
       "      <td>0.998903</td>\n",
       "      <td>0.022719</td>\n",
       "      <td>0.005235</td>\n",
       "      <td>-0.470602</td>\n",
       "      <td>0.298919</td>\n",
       "      <td>0.058913</td>\n",
       "    </tr>\n",
       "  </tbody>\n",
       "</table>\n",
       "</div>"
      ],
      "text/plain": [
       "         PC1       PC2       PC3       PC4       PC5       PC6       PC7  \\\n",
       "0   1.040418 -2.998482  2.390631 -0.782861 -2.440002 -0.007693  0.640910   \n",
       "1   0.082502  0.473554  0.333381 -0.182392 -0.320951  0.467551 -1.039055   \n",
       "2  -1.234703 -0.852540 -0.038259  3.252264 -0.757129 -0.714970  1.549105   \n",
       "3   0.680562  1.423353  0.804293  0.994373  0.358662 -0.945762 -0.009278   \n",
       "4   3.375800 -1.483663 -0.739327  1.793146 -0.109332  0.217560 -1.128995   \n",
       "5  -0.329446 -0.226394 -2.762484 -1.300450 -1.693950 -1.053420  1.057617   \n",
       "6  -0.708705  2.230857 -1.603350 -1.601015 -1.676362  0.858409 -1.233220   \n",
       "7  -1.402802 -0.019392  1.155383 -1.545183  0.051551  0.432543 -0.010320   \n",
       "8   2.148232 -1.993567 -0.923356 -0.089902 -1.171097 -1.143858 -0.387613   \n",
       "9   1.036721 -0.929021 -1.425914 -0.335159  0.622014 -1.038534  0.793520   \n",
       "10 -2.010504 -0.488124 -2.210001  0.058047  0.506381  2.049462  0.873774   \n",
       "11 -1.158574  2.726800  0.386602 -0.354927 -1.097488 -0.413347 -0.470156   \n",
       "12 -0.215858  1.124451 -1.570942  0.192393  0.170820 -0.252036 -0.228101   \n",
       "13  1.866332 -0.923755  0.088540  1.237797  1.514775 -1.648412 -1.103999   \n",
       "14 -3.927323 -1.579444  2.464675 -0.934439  0.107906 -0.226545 -0.345833   \n",
       "15 -1.463463 -2.810300  1.279489 -2.232299  1.294294 -0.873659  0.286129   \n",
       "16 -3.586431 -0.790933 -1.146018  0.443467  3.026633  0.242438 -0.455315   \n",
       "17  1.526660  1.164818  0.559544 -1.139790  1.122325 -0.696027  0.092861   \n",
       "18  1.734601  0.983395 -0.449394  0.050949  0.974079  1.291303  1.898538   \n",
       "19 -2.862773 -0.266834 -0.115364 -0.998761 -0.758719 -0.788496 -0.312932   \n",
       "20 -2.733519  1.143713 -1.408660  0.319036 -0.193230 -0.456724  0.190837   \n",
       "21  1.246675  1.757431  2.848359  0.509516 -0.134854  2.329488 -0.030960   \n",
       "22  0.667470  3.293989  2.085579  1.145734 -0.398048 -1.124511  0.959217   \n",
       "23  3.351932  1.698649  0.829540 -0.749186  1.530310 -0.802693 -0.113333   \n",
       "24 -4.106163  0.794825 -0.513444  1.918311 -0.471052  0.563412 -0.766894   \n",
       "25 -0.279147 -2.348894  0.977557  2.170756 -0.669259  0.641427 -0.631011   \n",
       "26  1.677049 -2.961308 -0.048343 -0.519356  0.595880  1.807326  0.253417   \n",
       "27  0.638891  2.096430  0.509191 -0.853053  0.444934  0.529548  0.205374   \n",
       "28  4.945566 -0.239615 -1.757905 -0.467017 -0.429090  0.756220 -0.534283   \n",
       "\n",
       "         PC8       PC9      PC10      PC11      PC12      PC13  \n",
       "0   0.339132  0.837185 -0.021962 -0.596074 -0.288474 -0.148793  \n",
       "1   1.231838  0.189278 -0.677803  0.614050 -0.211540  0.019737  \n",
       "2   1.351710  0.130466  0.547696  0.505778  0.097515  0.097915  \n",
       "3  -0.101724  0.144915  1.581640 -0.479499  0.121201  0.720541  \n",
       "4   0.293687 -1.216725  0.140332 -0.087418  0.171118  0.026218  \n",
       "5  -0.426011 -0.077575 -0.567319  0.166482  0.141720  0.833282  \n",
       "6  -0.557468  0.106016  0.558265  0.123334  0.225442 -0.001087  \n",
       "7   0.861289 -0.729311 -0.073429 -0.847197 -0.435728 -0.167266  \n",
       "8  -0.841622 -0.334200 -0.149301  0.461296  0.062081 -0.329627  \n",
       "9   0.338591  0.841189 -0.953543 -0.819650  0.410281 -0.349550  \n",
       "10  0.443561  1.207125  0.716526 -0.022365 -0.365844 -0.465543  \n",
       "11 -0.442221  0.852620 -0.373020 -0.592748 -0.189000 -0.054189  \n",
       "12 -0.254558 -0.914808  0.593244 -0.984321 -0.583798  0.279175  \n",
       "13 -0.926405  1.587622 -0.454327  0.443914 -0.645513  0.365461  \n",
       "14  0.684744 -0.343312 -0.471074  0.159163  0.090508  0.762372  \n",
       "15 -0.963698 -0.069802  0.784637 -0.170531  0.463640 -0.141250  \n",
       "16  0.065117 -0.252445 -0.339113 -0.466004  0.264118  0.033597  \n",
       "17  0.767364  0.356159  0.174518  0.242197  0.248578 -0.364642  \n",
       "18 -1.158502 -0.404471 -0.231797  0.254706 -0.691824  0.218257  \n",
       "19 -0.101422 -0.586978  0.652159  1.003882 -0.688958 -0.527802  \n",
       "20 -0.409752  0.040310  0.115438  0.521053  0.929551 -0.348419  \n",
       "21 -1.066523  0.727951 -0.017266  0.099152  0.509346  0.120304  \n",
       "22 -0.475777 -1.152353 -0.751299 -0.242664  0.152603 -0.473242  \n",
       "23  0.486559 -0.124059  0.220414  0.356353 -0.286794 -0.435599  \n",
       "24 -0.121284 -0.048657 -0.937810 -0.210153 -0.211687 -0.128055  \n",
       "25 -0.553101 -0.007091  0.492645 -0.195375  0.145020 -0.248441  \n",
       "26 -0.485646 -0.862574 -0.568660  0.493291  0.053397  0.127581  \n",
       "27  1.023220  0.080808  0.004974  0.739950  0.214121  0.520147  \n",
       "28  0.998903  0.022719  0.005235 -0.470602  0.298919  0.058913  "
      ]
     },
     "execution_count": 266,
     "metadata": {},
     "output_type": "execute_result"
    }
   ],
   "source": [
    "p_c"
   ]
  },
  {
   "cell_type": "markdown",
   "id": "e56b08bc",
   "metadata": {},
   "source": [
    "# Observation:- now the features are transformed into components"
   ]
  },
  {
   "cell_type": "code",
   "execution_count": 267,
   "id": "dbfd581e",
   "metadata": {},
   "outputs": [
    {
     "data": {
      "text/plain": [
       "PC1    -0.019201\n",
       "PC2    -0.076310\n",
       "PC3     0.165780\n",
       "PC4     0.695842\n",
       "PC5     0.308535\n",
       "PC6     0.647998\n",
       "PC7     0.563067\n",
       "PC8     0.228543\n",
       "PC9     0.319065\n",
       "PC10    0.510947\n",
       "PC11   -0.163154\n",
       "PC12   -0.081417\n",
       "PC13    0.724852\n",
       "dtype: float64"
      ]
     },
     "execution_count": 267,
     "metadata": {},
     "output_type": "execute_result"
    }
   ],
   "source": [
    "p_c.skew()"
   ]
  },
  {
   "cell_type": "markdown",
   "id": "0ebbdb28",
   "metadata": {},
   "source": [
    "### Skewness of data is reduced "
   ]
  },
  {
   "cell_type": "code",
   "execution_count": 268,
   "id": "c9f0fac6",
   "metadata": {},
   "outputs": [],
   "source": [
    "## Model Building\n",
    "from sklearn.model_selection import train_test_split\n",
    "from sklearn.metrics import r2_score,mean_squared_error,mean_absolute_error\n",
    "from sklearn.linear_model import LinearRegression,Ridge,RidgeCV,Lasso,LassoCV\n"
   ]
  },
  {
   "cell_type": "code",
   "execution_count": 269,
   "id": "11369294",
   "metadata": {},
   "outputs": [],
   "source": [
    "lr=LinearRegression()"
   ]
  },
  {
   "cell_type": "code",
   "execution_count": 270,
   "id": "a70ef2c2",
   "metadata": {},
   "outputs": [
    {
     "name": "stdout",
     "output_type": "stream",
     "text": [
      "At random state 860 The model performs well\n",
      "At random_state 860\n",
      "The training Score- 89.9\n",
      "The testing Score- 89.9\n"
     ]
    }
   ],
   "source": [
    "for i in range(0,1000):\n",
    "    x_train,x_test,y_train,y_test=train_test_split(p_c,y,test_size=0.20,random_state=i)\n",
    "    lr.fit(x_train,y_train)\n",
    "    ypred=lr.predict(x_train)\n",
    "    y_pred=lr.predict(x_test)\n",
    "    if round(r2_score(y_train,ypred)*100,1)==round(r2_score(y_test,y_pred)*100,1):\n",
    "        print('At random state',i,'The model performs well')\n",
    "        print('At random_state',i)\n",
    "        print('The training Score-',round(r2_score(y_train,ypred)*100,1))\n",
    "        print('The testing Score-',round(r2_score(y_test,y_pred)*100,1))\n"
   ]
  },
  {
   "cell_type": "code",
   "execution_count": 271,
   "id": "14dd02a5",
   "metadata": {},
   "outputs": [],
   "source": [
    "x_train,x_test,y_train,y_test=train_test_split(p_c,y,test_size=0.20,random_state=860)\n"
   ]
  },
  {
   "cell_type": "code",
   "execution_count": 272,
   "id": "baeb7a3a",
   "metadata": {},
   "outputs": [],
   "source": [
    "lr.fit(x_train,y_train)\n",
    "ypred=lr.predict(x_train)\n",
    "y_pred=lr.predict(x_test)\n"
   ]
  },
  {
   "cell_type": "code",
   "execution_count": 273,
   "id": "2c7df2fb",
   "metadata": {},
   "outputs": [
    {
     "name": "stdout",
     "output_type": "stream",
     "text": [
      "The training Score- 89.9\n",
      "The testing Score- 89.9\n"
     ]
    }
   ],
   "source": [
    "print('The training Score-',round(r2_score(y_train,ypred)*100,1))\n",
    "print('The testing Score-',round(r2_score(y_test,y_pred)*100,1))\n"
   ]
  },
  {
   "cell_type": "code",
   "execution_count": 274,
   "id": "f00ff709",
   "metadata": {
    "scrolled": true
   },
   "outputs": [
    {
     "data": {
      "text/plain": [
       "<AxesSubplot:ylabel='W'>"
      ]
     },
     "execution_count": 274,
     "metadata": {},
     "output_type": "execute_result"
    },
    {
     "data": {
      "image/png": "[encoded data removed]",
      "text/plain": [
       "<Figure size 432x288 with 1 Axes>"
      ]
     },
     "metadata": {
      "needs_background": "light"
     },
     "output_type": "display_data"
    }
   ],
   "source": [
    "sns.scatterplot(x=y_pred,y=y_test)"
   ]
  },
  {
   "cell_type": "code",
   "execution_count": 275,
   "id": "7fa99a83",
   "metadata": {},
   "outputs": [
    {
     "name": "stdout",
     "output_type": "stream",
     "text": [
      "MSE:   17.932538929863593\n",
      "MAE:   3.510149474152809\n",
      "RMSE:  4.234682860600495\n"
     ]
    }
   ],
   "source": [
    "print('MSE:  ',mean_squared_error(y_test,y_pred))\n",
    "print('MAE:  ',mean_absolute_error(y_test,y_pred))\n",
    "print('RMSE: ',np.sqrt(mean_squared_error(y_test,y_pred)))"
   ]
  },
  {
   "cell_type": "code",
   "execution_count": 276,
   "id": "f51c8aaf",
   "metadata": {},
   "outputs": [
    {
     "data": {
      "text/plain": [
       "array([ 0.48538183, -1.77406697,  0.56387554,  0.52202808,  0.88917073])"
      ]
     },
     "execution_count": 276,
     "metadata": {},
     "output_type": "execute_result"
    }
   ],
   "source": [
    "from sklearn.model_selection import cross_val_score\n",
    "cross_val_score(lr,p_c,y,cv=5)\n"
   ]
  },
  {
   "cell_type": "code",
   "execution_count": 277,
   "id": "2bfcbe50",
   "metadata": {},
   "outputs": [
    {
     "data": {
      "text/plain": [
       "RidgeCV(alphas=array([ 0.1,  1. , 10. ]), cv=10, normalize=True)"
      ]
     },
     "execution_count": 277,
     "metadata": {},
     "output_type": "execute_result"
    }
   ],
   "source": [
    "## L1 and L2 regularization\n",
    "## Ridge Regression through cross-validation\n",
    "ridgecv=RidgeCV(alphas=(0.1, 1.0, 10.0),cv=10,normalize=True)\n",
    "ridgecv.fit(x_train,y_train)"
   ]
  },
  {
   "cell_type": "code",
   "execution_count": 278,
   "id": "460e18ce",
   "metadata": {},
   "outputs": [
    {
     "data": {
      "text/plain": [
       "1.0"
      ]
     },
     "execution_count": 278,
     "metadata": {},
     "output_type": "execute_result"
    }
   ],
   "source": [
    "ridgecv.alpha_"
   ]
  },
  {
   "cell_type": "code",
   "execution_count": 279,
   "id": "7b3a31cb",
   "metadata": {},
   "outputs": [
    {
     "data": {
      "text/plain": [
       "Ridge(alpha=1)"
      ]
     },
     "execution_count": 279,
     "metadata": {},
     "output_type": "execute_result"
    }
   ],
   "source": [
    "## So the best alpha=1\n",
    "ridge=Ridge(alpha=1)\n",
    "ridge.fit(x_train,y_train)"
   ]
  },
  {
   "cell_type": "code",
   "execution_count": 280,
   "id": "73079f45",
   "metadata": {},
   "outputs": [
    {
     "data": {
      "text/plain": [
       "89.5508189196745"
      ]
     },
     "execution_count": 280,
     "metadata": {},
     "output_type": "execute_result"
    }
   ],
   "source": [
    "ypred=ridge.predict(x_train)\n",
    "r2_score(y_train,ypred)*100"
   ]
  },
  {
   "cell_type": "code",
   "execution_count": 281,
   "id": "be3c7d12",
   "metadata": {},
   "outputs": [
    {
     "data": {
      "text/plain": [
       "0.9078645394626483"
      ]
     },
     "execution_count": 281,
     "metadata": {},
     "output_type": "execute_result"
    }
   ],
   "source": [
    "y_pred=ridge.predict(x_test)\n",
    "r2_score(y_test,y_pred)"
   ]
  },
  {
   "cell_type": "code",
   "execution_count": 282,
   "id": "bbca6b77",
   "metadata": {},
   "outputs": [
    {
     "name": "stdout",
     "output_type": "stream",
     "text": [
      "MSE:   16.361722200424694\n",
      "MAE:   2.9217572529620326\n",
      "RMSE:  4.04496257095473\n"
     ]
    }
   ],
   "source": [
    "print('MSE:  ',mean_squared_error(y_test,y_pred))\n",
    "print('MAE:  ',mean_absolute_error(y_test,y_pred))\n",
    "print('RMSE: ',np.sqrt(mean_squared_error(y_test,y_pred)))"
   ]
  },
  {
   "cell_type": "code",
   "execution_count": 283,
   "id": "f641c74f",
   "metadata": {},
   "outputs": [
    {
     "data": {
      "text/plain": [
       "array([ 0.525677  , -1.70703695,  0.6375079 ,  0.84814685,  0.90735159])"
      ]
     },
     "execution_count": 283,
     "metadata": {},
     "output_type": "execute_result"
    }
   ],
   "source": [
    "cross_val_score(ridge,p_c,y,cv=5)\n"
   ]
  },
  {
   "cell_type": "code",
   "execution_count": 284,
   "id": "020844cc",
   "metadata": {},
   "outputs": [
    {
     "data": {
      "text/plain": [
       "LassoCV(cv=5, normalize=True)"
      ]
     },
     "execution_count": 284,
     "metadata": {},
     "output_type": "execute_result"
    }
   ],
   "source": [
    "### LASSO rigression through cross validation\n",
    "lassocv=LassoCV(cv=5,max_iter=1000,normalize=True)\n",
    "lassocv.fit(x_train,y_train)"
   ]
  },
  {
   "cell_type": "code",
   "execution_count": 285,
   "id": "3392861f",
   "metadata": {},
   "outputs": [
    {
     "name": "stdout",
     "output_type": "stream",
     "text": [
      "0.37311581092296103\n"
     ]
    }
   ],
   "source": [
    "print(lassocv.alpha_)"
   ]
  },
  {
   "cell_type": "code",
   "execution_count": 288,
   "id": "00fb3b83",
   "metadata": {},
   "outputs": [
    {
     "data": {
      "text/plain": [
       "Lasso(alpha=0.3731)"
      ]
     },
     "execution_count": 288,
     "metadata": {},
     "output_type": "execute_result"
    }
   ],
   "source": [
    "##LASSO Regression\n",
    "lasso=Lasso(alpha=0.3731)\n",
    "lasso.fit(x_train,y_train)"
   ]
  },
  {
   "cell_type": "code",
   "execution_count": 289,
   "id": "44c24b7c",
   "metadata": {},
   "outputs": [
    {
     "name": "stdout",
     "output_type": "stream",
     "text": [
      "86.46897101550427\n"
     ]
    }
   ],
   "source": [
    "ypred=lasso.predict(x_train)\n",
    "print(r2_score(y_train,ypred)*100)"
   ]
  },
  {
   "cell_type": "code",
   "execution_count": 291,
   "id": "b0ab5bb4",
   "metadata": {},
   "outputs": [
    {
     "name": "stdout",
     "output_type": "stream",
     "text": [
      "85.5800686142759\n"
     ]
    }
   ],
   "source": [
    "y_pred=lasso.predict(x_test)\n",
    "print(r2_score(y_test,y_pred)*100)"
   ]
  },
  {
   "cell_type": "code",
   "execution_count": 292,
   "id": "56d35377",
   "metadata": {},
   "outputs": [
    {
     "name": "stdout",
     "output_type": "stream",
     "text": [
      "MSE:   25.60739481914838\n",
      "MAE:   3.8360801127122905\n",
      "RMSE:  5.060374968235889\n"
     ]
    }
   ],
   "source": [
    "print('MSE:  ',mean_squared_error(y_test,y_pred))\n",
    "print('MAE:  ',mean_absolute_error(y_test,y_pred))\n",
    "print('RMSE: ',np.sqrt(mean_squared_error(y_test,y_pred)))"
   ]
  },
  {
   "cell_type": "code",
   "execution_count": 293,
   "id": "7befb921",
   "metadata": {},
   "outputs": [
    {
     "data": {
      "text/plain": [
       "array([ 0.4707778 , -1.60900498,  0.63902666,  0.8609991 ,  0.87384907])"
      ]
     },
     "execution_count": 293,
     "metadata": {},
     "output_type": "execute_result"
    }
   ],
   "source": [
    "cross_val_score(lasso,p_c,y,cv=5)\n"
   ]
  },
  {
   "cell_type": "markdown",
   "id": "d41ef8f3",
   "metadata": {},
   "source": [
    "# Observation:-  The Error of of Ridge Regression is less than Lasso regression.So we can consider ridge to better performing in this case which L2 regularization\n",
    "\n"
   ]
  },
  {
   "cell_type": "code",
   "execution_count": 302,
   "id": "c2bcd763",
   "metadata": {},
   "outputs": [],
   "source": [
    "def model(clf,x_train,x_test,y_train,y_test,train=True):\n",
    "    if train:\n",
    "        ypred=clf.predict(x_train)\n",
    "        print('\\n Training result')\n",
    "        print(r2_score(y_train,ypred))\n",
    "    elif train==False:\n",
    "        y_pred=clf.predict(x_test)\n",
    "        print(' Test Result')\n",
    "        print(r2_score(y_test,y_pred))\n",
    "        print('MSE:  ',mean_squared_error(y_test,y_pred))\n",
    "        print('MAE:  ',mean_absolute_error(y_test,y_pred))\n",
    "        print('RMSE: ',np.sqrt(mean_squared_error(y_test,y_pred)))"
   ]
  },
  {
   "cell_type": "code",
   "execution_count": 303,
   "id": "f0f1eeef",
   "metadata": {},
   "outputs": [],
   "source": [
    "from sklearn.ensemble import RandomForestRegressor\n",
    "from sklearn.svm import SVR\n",
    "from xgboost import XGBRegressor\n",
    "from sklearn.ensemble import GradientBoostingRegressor"
   ]
  },
  {
   "cell_type": "code",
   "execution_count": 304,
   "id": "7c348256",
   "metadata": {},
   "outputs": [],
   "source": [
    "rf=RandomForestRegressor()"
   ]
  },
  {
   "cell_type": "code",
   "execution_count": 305,
   "id": "7e9ea0f2",
   "metadata": {},
   "outputs": [
    {
     "data": {
      "text/plain": [
       "RandomForestRegressor()"
      ]
     },
     "execution_count": 305,
     "metadata": {},
     "output_type": "execute_result"
    }
   ],
   "source": [
    "rf.fit(x_train,y_train)"
   ]
  },
  {
   "cell_type": "code",
   "execution_count": 306,
   "id": "82fb72c7",
   "metadata": {},
   "outputs": [
    {
     "name": "stdout",
     "output_type": "stream",
     "text": [
      "\n",
      " Training result\n",
      "0.895488548583819\n"
     ]
    }
   ],
   "source": [
    "model(rf,x_train,x_test,y_train,y_test,train=True)"
   ]
  },
  {
   "cell_type": "code",
   "execution_count": 307,
   "id": "ba8f52b8",
   "metadata": {},
   "outputs": [
    {
     "name": "stdout",
     "output_type": "stream",
     "text": [
      " Test Result\n",
      "0.44295814171750325\n",
      "MSE:   98.92135000000006\n",
      "MAE:   8.418333333333337\n",
      "RMSE:  9.945921274572811\n"
     ]
    }
   ],
   "source": [
    "model(rf,x_train,x_test,y_train,y_test,train=False)"
   ]
  },
  {
   "cell_type": "code",
   "execution_count": 308,
   "id": "8cad60dc",
   "metadata": {},
   "outputs": [
    {
     "data": {
      "text/plain": [
       "GradientBoostingRegressor()"
      ]
     },
     "execution_count": 308,
     "metadata": {},
     "output_type": "execute_result"
    }
   ],
   "source": [
    "gbdt=GradientBoostingRegressor()\n",
    "gbdt.fit(x_train,y_train)"
   ]
  },
  {
   "cell_type": "code",
   "execution_count": 309,
   "id": "0ac3ee10",
   "metadata": {},
   "outputs": [
    {
     "name": "stdout",
     "output_type": "stream",
     "text": [
      "\n",
      " Training result\n",
      "0.9999998476211094\n"
     ]
    }
   ],
   "source": [
    "model(gbdt,x_train,x_test,y_train,y_test,train=True)"
   ]
  },
  {
   "cell_type": "code",
   "execution_count": 310,
   "id": "d2512629",
   "metadata": {},
   "outputs": [
    {
     "name": "stdout",
     "output_type": "stream",
     "text": [
      " Test Result\n",
      "0.3250657139019605\n",
      "MSE:   119.85708030624352\n",
      "MAE:   9.268208766046719\n",
      "RMSE:  10.947925844937183\n"
     ]
    }
   ],
   "source": [
    "model(gbdt,x_train,x_test,y_train,y_test,train=False)"
   ]
  },
  {
   "cell_type": "code",
   "execution_count": 311,
   "id": "883bfa9a",
   "metadata": {},
   "outputs": [
    {
     "data": {
      "text/plain": [
       "XGBRegressor(base_score=0.5, booster='gbtree', callbacks=None,\n",
       "             colsample_bylevel=1, colsample_bynode=1, colsample_bytree=1,\n",
       "             early_stopping_rounds=None, enable_categorical=False,\n",
       "             eval_metric=None, gamma=0, gpu_id=-1, grow_policy='depthwise',\n",
       "             importance_type=None, interaction_constraints='',\n",
       "             learning_rate=0.300000012, max_bin=256, max_cat_to_onehot=4,\n",
       "             max_delta_step=0, max_depth=6, max_leaves=0, min_child_weight=1,\n",
       "             missing=nan, monotone_constraints='()', n_estimators=100, n_jobs=0,\n",
       "             num_parallel_tree=1, predictor='auto', random_state=0, reg_alpha=0,\n",
       "             reg_lambda=1, ...)"
      ]
     },
     "execution_count": 311,
     "metadata": {},
     "output_type": "execute_result"
    }
   ],
   "source": [
    "xgb=XGBRegressor()\n",
    "xgb.fit(x_train,y_train)"
   ]
  },
  {
   "cell_type": "code",
   "execution_count": 312,
   "id": "b391ec49",
   "metadata": {},
   "outputs": [
    {
     "name": "stdout",
     "output_type": "stream",
     "text": [
      "\n",
      " Training result\n",
      "0.999999997728338\n"
     ]
    }
   ],
   "source": [
    "model(xgb,x_train,x_test,y_train,y_test,train=True)"
   ]
  },
  {
   "cell_type": "code",
   "execution_count": 313,
   "id": "300c15e5",
   "metadata": {},
   "outputs": [
    {
     "name": "stdout",
     "output_type": "stream",
     "text": [
      " Test Result\n",
      "0.011626389622065525\n",
      "MSE:   175.51868030961487\n",
      "MAE:   11.511781056722006\n",
      "RMSE:  13.248346323583743\n"
     ]
    }
   ],
   "source": [
    "model(xgb,x_train,x_test,y_train,y_test,train=False)"
   ]
  },
  {
   "cell_type": "code",
   "execution_count": 314,
   "id": "99678674",
   "metadata": {},
   "outputs": [
    {
     "data": {
      "text/plain": [
       "SVR()"
      ]
     },
     "execution_count": 314,
     "metadata": {},
     "output_type": "execute_result"
    }
   ],
   "source": [
    "svr=SVR()\n",
    "svr.fit(x_train,y_train)"
   ]
  },
  {
   "cell_type": "code",
   "execution_count": 315,
   "id": "13e6c1b7",
   "metadata": {},
   "outputs": [
    {
     "name": "stdout",
     "output_type": "stream",
     "text": [
      "\n",
      " Training result\n",
      "0.2631546779537711\n"
     ]
    }
   ],
   "source": [
    "model(svr,x_train,x_test,y_train,y_test,train=True)"
   ]
  },
  {
   "cell_type": "code",
   "execution_count": 316,
   "id": "a153abda",
   "metadata": {},
   "outputs": [
    {
     "name": "stdout",
     "output_type": "stream",
     "text": [
      " Test Result\n",
      "0.09555655134353969\n",
      "MSE:   160.61408242390974\n",
      "MAE:   11.44111407765896\n",
      "RMSE:  12.673361133649973\n"
     ]
    }
   ],
   "source": [
    "model(svr,x_train,x_test,y_train,y_test,train=False)"
   ]
  },
  {
   "cell_type": "markdown",
   "id": "35f30a66",
   "metadata": {},
   "source": [
    "## Conclusion:- All the model are overfitted. Gradient Boosting is better than other model selected. So we can tune it hyperparameter to reduce overfitting through GridSearchCV\n"
   ]
  },
  {
   "cell_type": "code",
   "execution_count": 317,
   "id": "93262cff",
   "metadata": {},
   "outputs": [],
   "source": [
    "## import GridsearchCV\n",
    "from sklearn.model_selection import GridSearchCV"
   ]
  },
  {
   "cell_type": "code",
   "execution_count": 327,
   "id": "c6342868",
   "metadata": {},
   "outputs": [],
   "source": [
    "params={'loss':['squared_error'],\n",
    "       'n_estimators':[100],\n",
    "        'learning_rate':[0.0001,0.001,0.01,0.002,1],\n",
    "        'max_depth':[1,2,3,4,5,6,7,8],\n",
    "        'min_samples_split':[1,2,3,4,5,6]\n",
    "       }"
   ]
  },
  {
   "cell_type": "code",
   "execution_count": 328,
   "id": "70caced8",
   "metadata": {},
   "outputs": [],
   "source": [
    "gs=GridSearchCV(estimator=gbdt,param_grid=params,cv=5,n_jobs=-1)"
   ]
  },
  {
   "cell_type": "code",
   "execution_count": 329,
   "id": "5eb3f0f2",
   "metadata": {},
   "outputs": [
    {
     "data": {
      "text/plain": [
       "GridSearchCV(cv=5, estimator=GradientBoostingRegressor(), n_jobs=-1,\n",
       "             param_grid={'learning_rate': [0.0001, 0.001, 0.01, 0.002, 1],\n",
       "                         'loss': ['squared_error'],\n",
       "                         'max_depth': [1, 2, 3, 4, 5, 6, 7, 8],\n",
       "                         'min_samples_split': [1, 2, 3, 4, 5, 6],\n",
       "                         'n_estimators': [100]})"
      ]
     },
     "execution_count": 329,
     "metadata": {},
     "output_type": "execute_result"
    }
   ],
   "source": [
    "gs.fit(x_train,y_train)"
   ]
  },
  {
   "cell_type": "code",
   "execution_count": 330,
   "id": "154a1f8a",
   "metadata": {},
   "outputs": [
    {
     "data": {
      "text/plain": [
       "{'learning_rate': 0.01,\n",
       " 'loss': 'squared_error',\n",
       " 'max_depth': 1,\n",
       " 'min_samples_split': 2,\n",
       " 'n_estimators': 100}"
      ]
     },
     "execution_count": 330,
     "metadata": {},
     "output_type": "execute_result"
    }
   ],
   "source": [
    "gs.best_params_"
   ]
  },
  {
   "cell_type": "code",
   "execution_count": 331,
   "id": "79a97789",
   "metadata": {},
   "outputs": [],
   "source": [
    "gbdt=GradientBoostingRegressor(learning_rate=0.01,loss='squared_error',max_depth=1,min_samples_split=2,n_estimators=100)"
   ]
  },
  {
   "cell_type": "code",
   "execution_count": 332,
   "id": "36881608",
   "metadata": {},
   "outputs": [
    {
     "data": {
      "text/plain": [
       "GradientBoostingRegressor(learning_rate=0.01, max_depth=1)"
      ]
     },
     "execution_count": 332,
     "metadata": {},
     "output_type": "execute_result"
    }
   ],
   "source": [
    "gbdt.fit(x_train,y_train)"
   ]
  },
  {
   "cell_type": "code",
   "execution_count": 333,
   "id": "d80fe19f",
   "metadata": {},
   "outputs": [
    {
     "name": "stdout",
     "output_type": "stream",
     "text": [
      "\n",
      " Training result\n",
      "0.5280345303564165\n"
     ]
    }
   ],
   "source": [
    "model(gbdt,x_train,x_test,y_train,y_test,train=True)"
   ]
  },
  {
   "cell_type": "code",
   "execution_count": 334,
   "id": "990d70a0",
   "metadata": {},
   "outputs": [
    {
     "name": "stdout",
     "output_type": "stream",
     "text": [
      " Test Result\n",
      "0.262333209853731\n",
      "MSE:   130.99732748347495\n",
      "MAE:   9.863172308390304\n",
      "RMSE:  11.445406392237672\n"
     ]
    }
   ],
   "source": [
    "model(gbdt,x_train,x_test,y_train,y_test,train=False)"
   ]
  },
  {
   "cell_type": "code",
   "execution_count": 336,
   "id": "96487868",
   "metadata": {},
   "outputs": [],
   "source": [
    "## Hyperparameter tuning of RandomForest\n",
    "params={'criterion':['squared_error'],\n",
    "       'n_estimators':[100],\n",
    "        'max_features':['auto'],\n",
    "        'max_depth':[1,2,3,4,5,6,7,8],\n",
    "        'min_samples_split':[1,2,3,4,5,6]\n",
    "       }"
   ]
  },
  {
   "cell_type": "code",
   "execution_count": 337,
   "id": "28b1934a",
   "metadata": {},
   "outputs": [],
   "source": [
    "gs=GridSearchCV(estimator=rf,param_grid=params,cv=5,n_jobs=-1)"
   ]
  },
  {
   "cell_type": "code",
   "execution_count": 339,
   "id": "686ab289",
   "metadata": {},
   "outputs": [
    {
     "data": {
      "text/plain": [
       "GridSearchCV(cv=5, estimator=RandomForestRegressor(), n_jobs=-1,\n",
       "             param_grid={'criterion': ['squared_error'],\n",
       "                         'max_depth': [1, 2, 3, 4, 5, 6, 7, 8],\n",
       "                         'max_features': ['auto'],\n",
       "                         'min_samples_split': [1, 2, 3, 4, 5, 6],\n",
       "                         'n_estimators': [100]})"
      ]
     },
     "execution_count": 339,
     "metadata": {},
     "output_type": "execute_result"
    }
   ],
   "source": [
    "gs.fit(x_train,y_train)"
   ]
  },
  {
   "cell_type": "code",
   "execution_count": 340,
   "id": "2593e84a",
   "metadata": {},
   "outputs": [
    {
     "data": {
      "text/plain": [
       "{'criterion': 'squared_error',\n",
       " 'max_depth': 1,\n",
       " 'max_features': 'auto',\n",
       " 'min_samples_split': 2,\n",
       " 'n_estimators': 100}"
      ]
     },
     "execution_count": 340,
     "metadata": {},
     "output_type": "execute_result"
    }
   ],
   "source": [
    "gs.best_params_"
   ]
  },
  {
   "cell_type": "code",
   "execution_count": 341,
   "id": "6f1eeeb3",
   "metadata": {},
   "outputs": [],
   "source": [
    "rf=RandomForestRegressor(criterion='squared_error',max_depth=1,max_features='auto',min_samples_split=2,n_estimators=100)"
   ]
  },
  {
   "cell_type": "code",
   "execution_count": 342,
   "id": "18d1a273",
   "metadata": {},
   "outputs": [
    {
     "data": {
      "text/plain": [
       "RandomForestRegressor(max_depth=1)"
      ]
     },
     "execution_count": 342,
     "metadata": {},
     "output_type": "execute_result"
    }
   ],
   "source": [
    "rf.fit(x_train,y_train)"
   ]
  },
  {
   "cell_type": "code",
   "execution_count": 343,
   "id": "bbfb4971",
   "metadata": {},
   "outputs": [
    {
     "name": "stdout",
     "output_type": "stream",
     "text": [
      "\n",
      " Training result\n",
      "0.6241076425804547\n"
     ]
    }
   ],
   "source": [
    "model(rf,x_train,x_test,y_train,y_test,train=True)"
   ]
  },
  {
   "cell_type": "code",
   "execution_count": 344,
   "id": "5d13b54a",
   "metadata": {},
   "outputs": [
    {
     "name": "stdout",
     "output_type": "stream",
     "text": [
      " Test Result\n",
      "0.3474151821378072\n",
      "MSE:   115.8881872386944\n",
      "MAE:   9.119222186739991\n",
      "RMSE:  10.765137585683446\n"
     ]
    }
   ],
   "source": [
    "model(rf,x_train,x_test,y_train,y_test,train=False)"
   ]
  },
  {
   "cell_type": "code",
   "execution_count": 345,
   "id": "a5ac1310",
   "metadata": {},
   "outputs": [
    {
     "data": {
      "text/plain": [
       "array([-0.50821667, -1.36586695,  0.1074579 , -0.56882744,  0.53602389])"
      ]
     },
     "execution_count": 345,
     "metadata": {},
     "output_type": "execute_result"
    }
   ],
   "source": [
    "cross_val_score(rf,p_c,y,cv=5)"
   ]
  },
  {
   "cell_type": "markdown",
   "id": "725ced25",
   "metadata": {},
   "source": [
    "## Final Conculsion:-\n",
    "\n",
    "1. Ridge model better r2_score for this model.\n",
    "2. Second Best is Linear Regression.\n",
    "3. Other model are overfitted and has less r2_score and more mse,mae\n",
    "4. So we can Ridge as final model"
   ]
  },
  {
   "cell_type": "code",
   "execution_count": 347,
   "id": "9c9e5b65",
   "metadata": {},
   "outputs": [
    {
     "name": "stdout",
     "output_type": "stream",
     "text": [
      "\n",
      " Training result\n",
      "0.8955081891967449\n"
     ]
    }
   ],
   "source": [
    "model(ridge,x_train,x_test,y_train,y_test,train=True)"
   ]
  },
  {
   "cell_type": "code",
   "execution_count": 348,
   "id": "e4b51daf",
   "metadata": {},
   "outputs": [
    {
     "name": "stdout",
     "output_type": "stream",
     "text": [
      " Test Result\n",
      "0.9078645394626483\n",
      "MSE:   16.361722200424694\n",
      "MAE:   2.9217572529620326\n",
      "RMSE:  4.04496257095473\n"
     ]
    }
   ],
   "source": [
    "model(ridge,x_train,x_test,y_train,y_test,train=False)"
   ]
  },
  {
   "cell_type": "code",
   "execution_count": 349,
   "id": "6dc01a5c",
   "metadata": {},
   "outputs": [],
   "source": [
    "Report=pd.DataFrame({'Actual':y_test,'Predicted':y_pred})"
   ]
  },
  {
   "cell_type": "code",
   "execution_count": 350,
   "id": "8ffd4a01",
   "metadata": {},
   "outputs": [
    {
     "data": {
      "text/html": [
       "<div>\n",
       "<style scoped>\n",
       "    .dataframe tbody tr th:only-of-type {\n",
       "        vertical-align: middle;\n",
       "    }\n",
       "\n",
       "    .dataframe tbody tr th {\n",
       "        vertical-align: top;\n",
       "    }\n",
       "\n",
       "    .dataframe thead th {\n",
       "        text-align: right;\n",
       "    }\n",
       "</style>\n",
       "<table border=\"1\" class=\"dataframe\">\n",
       "  <thead>\n",
       "    <tr style=\"text-align: right;\">\n",
       "      <th></th>\n",
       "      <th>Actual</th>\n",
       "      <th>Predicted</th>\n",
       "    </tr>\n",
       "  </thead>\n",
       "  <tbody>\n",
       "    <tr>\n",
       "      <th>0</th>\n",
       "      <td>95</td>\n",
       "      <td>84.723224</td>\n",
       "    </tr>\n",
       "    <tr>\n",
       "      <th>11</th>\n",
       "      <td>86</td>\n",
       "      <td>87.810188</td>\n",
       "    </tr>\n",
       "    <tr>\n",
       "      <th>15</th>\n",
       "      <td>100</td>\n",
       "      <td>97.124843</td>\n",
       "    </tr>\n",
       "    <tr>\n",
       "      <th>29</th>\n",
       "      <td>68</td>\n",
       "      <td>66.147017</td>\n",
       "    </tr>\n",
       "    <tr>\n",
       "      <th>24</th>\n",
       "      <td>63</td>\n",
       "      <td>62.528651</td>\n",
       "    </tr>\n",
       "    <tr>\n",
       "      <th>1</th>\n",
       "      <td>83</td>\n",
       "      <td>77.269973</td>\n",
       "    </tr>\n",
       "  </tbody>\n",
       "</table>\n",
       "</div>"
      ],
      "text/plain": [
       "    Actual  Predicted\n",
       "0       95  84.723224\n",
       "11      86  87.810188\n",
       "15     100  97.124843\n",
       "29      68  66.147017\n",
       "24      63  62.528651\n",
       "1       83  77.269973"
      ]
     },
     "execution_count": 350,
     "metadata": {},
     "output_type": "execute_result"
    }
   ],
   "source": [
    "Report"
   ]
  },
  {
   "cell_type": "code",
   "execution_count": 351,
   "id": "23d69f52",
   "metadata": {},
   "outputs": [
    {
     "data": {
      "text/plain": [
       "<AxesSubplot:xlabel='Actual', ylabel='Predicted'>"
      ]
     },
     "execution_count": 351,
     "metadata": {},
     "output_type": "execute_result"
    },
    {
     "data": {
      "image/png": "[encoded data removed]",
      "text/plain": [
       "<Figure size 1080x504 with 1 Axes>"
      ]
     },
     "metadata": {
      "needs_background": "light"
     },
     "output_type": "display_data"
    }
   ],
   "source": [
    "plt.figure(figsize=(15,7))\n",
    "sns.lineplot(x='Actual',y='Predicted',data=Report)\n"
   ]
  },
  {
   "cell_type": "markdown",
   "id": "50701340",
   "metadata": {},
   "source": [
    "# Saving The Ridge model using pickle"
   ]
  },
  {
   "cell_type": "code",
   "execution_count": 352,
   "id": "e608631e",
   "metadata": {},
   "outputs": [],
   "source": [
    "import pickle\n",
    "filename='Baseball.pickle'\n",
    "pickle.dump(ridge,open(filename,'wb'))"
   ]
  },
  {
   "cell_type": "code",
   "execution_count": null,
   "id": "905b7031",
   "metadata": {},
   "outputs": [],
   "source": []
  }
 ],
 "metadata": {
  "kernelspec": {
   "display_name": "Python 3 (ipykernel)",
   "language": "python",
   "name": "python3"
  },
  "language_info": {
   "codemirror_mode": {
    "name": "ipython",
    "version": 3
   },
   "file_extension": ".py",
   "mimetype": "text/x-python",
   "name": "python",
   "nbconvert_exporter": "python",
   "pygments_lexer": "ipython3",
   "version": "3.7.3"
  }
 },
 "nbformat": 4,
 "nbformat_minor": 5
}
